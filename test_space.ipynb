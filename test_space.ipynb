{
 "cells": [
  {
   "cell_type": "code",
   "execution_count": null,
   "metadata": {},
   "outputs": [],
   "source": [
    "from flask import Flask, render_template, request\n",
    "from selenium import webdriver\n",
    "from selenium.webdriver.support import expected_conditions as EC\n",
    "from selenium.webdriver.support.wait import WebDriverWait\n",
    "from selenium.webdriver.chrome.options import Options\n",
    "from selenium.webdriver.common.keys import Keys\n",
    "from selenium.webdriver import Keys\n",
    "from selenium.webdriver.common.by import By\n",
    "import os\n",
    "import pandas as pd"
   ]
  },
  {
   "cell_type": "code",
   "execution_count": null,
   "metadata": {},
   "outputs": [],
   "source": [
    "driver = webdriver.Chrome(keep_alive=True)\n",
    "driver.set_window_size(1100, 800)\n",
    "print(\"Clicker starts\")\n",
    "username = \"info@waddystore.com\"\n",
    "password = \"Waddy1208\"\n",
    "driver.get('https://admin.shoplineapp.com/admin/waddystore/')\n",
    "driver.find_element(By.ID, \"staff_email\").send_keys(username)\n",
    "driver.find_element(By.ID, \"staff_password\").send_keys(password)\n",
    "driver.find_element(By.ID, \"reg-submit-button\").click()\n",
    "print(\"Login sucessful\")"
   ]
  },
  {
   "cell_type": "code",
   "execution_count": null,
   "metadata": {},
   "outputs": [],
   "source": [
    "sku_id = \"63649e44c6169500145493af\"\n",
    "print(\"Now browsing to SKU: \" + sku_id)\n",
    "driver.get(\"https://admin.shoplineapp.com/admin/waddystore/products/\"+sku_id+\"/edit\")\n",
    "\n",
    "\n",
    "driver.find_element(By.XPATH,'//*[@id=\"product_form\"]/div[1]/div[3]/ul/li[4]/a').click()\n",
    "accept_button = driver.find_element(By.XPATH,'//*[@id=\"productForm-pricing\"]/div/div[3]/div[2]/div[1]/div/div[2]/div/div[2]/label/input')\n",
    "accept_button_classess = accept_button.get_attribute(\"class\")\n",
    "print(accept_button_classess)\n",
    "\n",
    "'''\n",
    "df = pd.DataFrame()\n",
    "if \"ng-touched\" in accept_button_classess:\n",
    "    print(df.loc[df['Product ID (DO NOT EDIT)'] == sku_id])\n",
    "    accept_button.click()\n",
    "\n",
    "driver.find_element(By.XPATH,'//*[@id=\"product_form\"]/div[1]/div[1]/div/span[2]/button/span[2]').click()\n",
    "print(\"Saved changes, completed\")'''"
   ]
  },
  {
   "cell_type": "code",
   "execution_count": null,
   "metadata": {},
   "outputs": [],
   "source": [
    "def click_procedure_missing_pre_order(driver, sku_id):\n",
    "    print(\"Now browsing to SKU: \" + sku_id)\n",
    "    driver.get(\"https://admin.shoplineapp.com/admin/waddystore/products/\"+sku_id+\"/edit\")\n",
    "\n",
    "    driver.find_element(By.XPATH,'//*[@id=\"product_form\"]/div[1]/div[3]/ul/li[4]/a').click()\n",
    "    print(\"Go to Price and Quantity Tab\")\n",
    "\n",
    "    accept_button = driver.find_element(By.XPATH,'//*[@id=\"productForm-pricing\"]/div/div[3]/div[2]/div[1]/div/div[2]/div/div[2]/label/input')\n",
    "    accept_button_classess = accept_button.get_attribute(\"class\")\n",
    "    print(accept_button_classess)\n",
    "    if \"ng-touched\" in accept_button_classess:\n",
    "        \n",
    "        driver.find_element(By.XPATH,'//*[@id=\"product_form\"]/div[1]/div[3]/ul/li[8]/a').click()\n",
    "        print(\"Go to Settings Tab\")\n",
    "        pre_order_switch = driver.find_element(By.XPATH,'//*[@id=\"productForm-settings\"]/div[1]/div[3]/div[1]/div/div[2]/div/div[1]/div')\n",
    "        pre_order_switch_classess = pre_order_switch.get_attribute(\"class\")\n",
    "        if \"switch-off\" in pre_order_switch_classess:\n",
    "            driver.find_element(By.XPATH,'//*[@id=\"productForm-settings\"]/div[1]/div[3]/div[1]/div/div[2]/div/div[1]/div/span[2]').click()\n",
    "            print(\"Switched on Preorder Product Setting\")\n",
    "            \n",
    "            pre_order_msg_english = \"This product is a pre-order product. It will arrive in about 7-14 working days, thank you for your patient! (AVAILABLE does not mean in stock)\"\n",
    "            pre_order_msg_chinese = \"此商品為預購商品，大約7-14工作天到貨，請耐心等候♡（尚有庫存不代表有現貨）\"\n",
    "            \n",
    "            english_msg_box = driver.find_element(By.XPATH,'//*[@id=\"productForm-settings\"]/div[1]/div[3]/div[2]/div/div[2]/div/input')\n",
    "            english_msg_box.send_keys(Keys.CONTROL, 'a')\n",
    "            english_msg_box.send_keys(pre_order_msg_english)\n",
    "            print(\"Typed in Preorder Product Note (English)\")\n",
    "            chinese_msg_box = driver.find_element(By.XPATH,'//*[@id=\"productForm-settings\"]/div[1]/div[3]/div[3]/div/div[2]/div/input')\n",
    "            chinese_msg_box.send_keys(Keys.CONTROL, 'a')\n",
    "            chinese_msg_box.send_keys(pre_order_msg_chinese)\n",
    "            print(\"Typed in Preorder Product Note (Chinese)\")\n",
    "\n",
    "            driver.find_element(By.XPATH,'//*[@id=\"product_form\"]/div[1]/div[1]/div/span[2]/button/span[2]').click()\n",
    "            print(\"Saved changes, completed\")\n",
    "        return \"Pre order settings\"\n",
    "    else:\n",
    "        return \"No Missing Pre order settings\"\n",
    "\n",
    "# cross check with stock level\n",
    "os.chdir(\"C:/Users/prolo/OneDrive/Documents/Code_Project/Clicker/codespaces-flask/Check\")\n",
    "file_path = os.listdir()[0]\n",
    "stock_df = pd.read_excel(file_path,index_col=None, header=0)\n",
    "\n",
    "\n",
    "os.chdir(\"C:/Users/prolo/OneDrive/Documents/Code_Project/Clicker/codespaces-flask/Update\")\n",
    "for file in os.listdir():\n",
    "    # Check whether file is in text format or not\n",
    "    if file.endswith(\".xls\"):\n",
    "        file_path = f\"{file}\" \n",
    "        df = pd.DataFrame()\n",
    "        df = pd.read_excel(file_path,index_col=None, header=0)\n",
    "        df = df.drop(index=0)\n",
    "        ofs_df, preorder_df = pd.DataFrame(), pd.DataFrame()\n",
    "        preorder_df = df[df['Preorder Product'] == \"N\"]\n",
    "        stock_level = preorder_df['Quantity (DO NOT EDIT)']\n",
    "        ofs_df = preorder_df[preorder_df['Quantity (DO NOT EDIT)'] <= 0]\n",
    "        ofs_df = preorder_df[stock_level <= 0]\n",
    "        for barcode in ofs_df[\"Barcode\"]:\n",
    "                check_stock_df = stock_df.loc[stock_df['商品條碼'] == barcode]\n",
    "                if int(check_stock_df['預設倉庫']) > 0:\n",
    "                    tmp_df = pd.DataFrame()\n",
    "                    tmp_df = df.loc[df['Barcode'] == barcode]\n",
    "                    if tmp_df.shape[0] > 0:\n",
    "                        for sku_id in tmp_df['Product ID (DO NOT EDIT)']:\n",
    "                            msg = click_procedure_missing_pre_order(driver, sku_id)\n",
    "                            print(msg)\n",
    "\n"
   ]
  }
 ],
 "metadata": {
  "kernelspec": {
   "display_name": "Python 3.7.4 64-bit",
   "language": "python",
   "name": "python3"
  },
  "language_info": {
   "codemirror_mode": {
    "name": "ipython",
    "version": 3
   },
   "file_extension": ".py",
   "mimetype": "text/x-python",
   "name": "python",
   "nbconvert_exporter": "python",
   "pygments_lexer": "ipython3",
   "version": "3.7.4"
  },
  "orig_nbformat": 4,
  "vscode": {
   "interpreter": {
    "hash": "d2561fb63e72dfdb66f0f6990a2d928a8481c30f37a2ae20c52a5a9cbb6553d9"
   }
  }
 },
 "nbformat": 4,
 "nbformat_minor": 2
}
