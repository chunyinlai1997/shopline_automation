{
 "cells": [
  {
   "cell_type": "code",
   "execution_count": 1,
   "metadata": {},
   "outputs": [],
   "source": [
    "from flask import Flask, render_template, request\n",
    "from selenium.webdriver.support import expected_conditions as EC\n",
    "from selenium.common.exceptions import NoSuchElementException\n",
    "from selenium.webdriver.support.wait import WebDriverWait\n",
    "from selenium import webdriver\n",
    "from selenium.webdriver.chrome.options import Options\n",
    "from selenium.webdriver.common.keys import Keys\n",
    "from selenium.webdriver import Keys\n",
    "from selenium.webdriver.common.by import By\n",
    "import os\n",
    "import pandas as pd\n",
    "import numpy as np"
   ]
  },
  {
   "cell_type": "code",
   "execution_count": 15,
   "metadata": {},
   "outputs": [
    {
     "name": "stderr",
     "output_type": "stream",
     "text": [
      "C:\\Users\\Waddy Store\\AppData\\Local\\Temp\\ipykernel_33040\\110291425.py:1: DeprecationWarning: keep_alive has been deprecated, please pass in a Service object\n",
      "  driver = webdriver.Chrome(keep_alive=True)\n"
     ]
    },
    {
     "name": "stdout",
     "output_type": "stream",
     "text": [
      "Clicker starts\n",
      "Login sucessful\n"
     ]
    }
   ],
   "source": [
    "driver = webdriver.Chrome(keep_alive=True)\n",
    "driver.set_window_size(1100, 800)\n",
    "print(\"Clicker starts\")\n",
    "username = \"info@waddystore.com\"\n",
    "password = \"Waddy1208\"\n",
    "driver.get('https://admin.shoplineapp.com/admin/waddystore/')\n",
    "driver.find_element(By.ID, \"staff_email\").send_keys(username)\n",
    "driver.find_element(By.ID, \"staff_password\").send_keys(password)\n",
    "driver.find_element(By.ID, \"reg-submit-button\").click()\n",
    "print(\"Login sucessful\")"
   ]
  },
  {
   "cell_type": "code",
   "execution_count": 16,
   "metadata": {},
   "outputs": [
    {
     "name": "stdout",
     "output_type": "stream",
     "text": [
      "c:\\Users\\Waddy Store\\Documents\\Code\\codespaces-flask\\Update\n"
     ]
    }
   ],
   "source": [
    "#check path\n",
    "print(os.path.abspath(os.getcwd()))"
   ]
  },
  {
   "cell_type": "code",
   "execution_count": 17,
   "metadata": {},
   "outputs": [
    {
     "name": "stdout",
     "output_type": "stream",
     "text": [
      "c:\\Users\\Waddy Store\\Documents\\Code\\codespaces-flask\n"
     ]
    }
   ],
   "source": [
    "os.chdir(\"..\")\n",
    "print(os.path.abspath(os.getcwd()))"
   ]
  },
  {
   "cell_type": "code",
   "execution_count": 18,
   "metadata": {},
   "outputs": [
    {
     "name": "stdout",
     "output_type": "stream",
     "text": [
      "Now process:  269    SVAKOM Vick Neo 後庭按摩器 App遙控版\n",
      "Name: Product Name (Traditional Chinese), dtype: object 269    6959633152355\n",
      "Name: Barcode, dtype: object\n",
      "Now browsing to SKU: 5f40bc6a754071003c197c05\n",
      "True\n",
      "Go to Price and Quantity Tab\n"
     ]
    },
    {
     "ename": "ElementNotInteractableException",
     "evalue": "Message: element not interactable\n  (Session info: chrome=109.0.5414.75)\nStacktrace:\nBacktrace:\n\t(No symbol) [0x00A76643]\n\t(No symbol) [0x00A0BE21]\n\t(No symbol) [0x0090D960]\n\t(No symbol) [0x009423A7]\n\t(No symbol) [0x00936B13]\n\t(No symbol) [0x0095FD7C]\n\t(No symbol) [0x0093641F]\n\t(No symbol) [0x009600D4]\n\t(No symbol) [0x00976B09]\n\t(No symbol) [0x0095FB76]\n\t(No symbol) [0x009349C1]\n\t(No symbol) [0x00935E5D]\n\tGetHandleVerifier [0x00CEA142+2497106]\n\tGetHandleVerifier [0x00D185D3+2686691]\n\tGetHandleVerifier [0x00D1BB9C+2700460]\n\tGetHandleVerifier [0x00B23B10+635936]\n\t(No symbol) [0x00A14A1F]\n\t(No symbol) [0x00A1A418]\n\t(No symbol) [0x00A1A505]\n\t(No symbol) [0x00A2508B]\n\tBaseThreadInitThunk [0x759E6BD9+25]\n\tRtlGetFullPathName_UEx [0x77058FD2+1218]\n\tRtlGetFullPathName_UEx [0x77058F9D+1165]\n",
     "output_type": "error",
     "traceback": [
      "\u001b[1;31m---------------------------------------------------------------------------\u001b[0m",
      "\u001b[1;31mElementNotInteractableException\u001b[0m           Traceback (most recent call last)",
      "Cell \u001b[1;32mIn[18], line 36\u001b[0m\n\u001b[0;32m     33\u001b[0m accept_button \u001b[39m=\u001b[39m driver\u001b[39m.\u001b[39mfind_element(By\u001b[39m.\u001b[39mXPATH,\u001b[39m'\u001b[39m\u001b[39m//*[@id=\u001b[39m\u001b[39m\"\u001b[39m\u001b[39mproductForm-pricing\u001b[39m\u001b[39m\"\u001b[39m\u001b[39m]/div/div[3]/div[2]/div[1]/div/div[2]/div/div[2]/label/input\u001b[39m\u001b[39m'\u001b[39m)\n\u001b[0;32m     35\u001b[0m \u001b[39mif\u001b[39;00m accept_button\u001b[39m.\u001b[39mis_selected:\n\u001b[1;32m---> 36\u001b[0m     accept_button\u001b[39m.\u001b[39;49mclick()\n\u001b[0;32m     37\u001b[0m     \u001b[39mprint\u001b[39m(\u001b[39m\"\u001b[39m\u001b[39mUnticked 缺貨時可接單\u001b[39m\u001b[39m\"\u001b[39m)\n\u001b[0;32m     38\u001b[0m \u001b[39mif\u001b[39;00m \u001b[39mnot\u001b[39;00m accept_button\u001b[39m.\u001b[39mis_selected:\n",
      "File \u001b[1;32m~\\AppData\\Roaming\\Python\\Python311\\site-packages\\selenium\\webdriver\\remote\\webelement.py:93\u001b[0m, in \u001b[0;36mWebElement.click\u001b[1;34m(self)\u001b[0m\n\u001b[0;32m     91\u001b[0m \u001b[39mdef\u001b[39;00m \u001b[39mclick\u001b[39m(\u001b[39mself\u001b[39m) \u001b[39m-\u001b[39m\u001b[39m>\u001b[39m \u001b[39mNone\u001b[39;00m:\n\u001b[0;32m     92\u001b[0m \u001b[39m    \u001b[39m\u001b[39m\"\"\"Clicks the element.\"\"\"\u001b[39;00m\n\u001b[1;32m---> 93\u001b[0m     \u001b[39mself\u001b[39;49m\u001b[39m.\u001b[39;49m_execute(Command\u001b[39m.\u001b[39;49mCLICK_ELEMENT)\n",
      "File \u001b[1;32m~\\AppData\\Roaming\\Python\\Python311\\site-packages\\selenium\\webdriver\\remote\\webelement.py:410\u001b[0m, in \u001b[0;36mWebElement._execute\u001b[1;34m(self, command, params)\u001b[0m\n\u001b[0;32m    408\u001b[0m     params \u001b[39m=\u001b[39m {}\n\u001b[0;32m    409\u001b[0m params[\u001b[39m\"\u001b[39m\u001b[39mid\u001b[39m\u001b[39m\"\u001b[39m] \u001b[39m=\u001b[39m \u001b[39mself\u001b[39m\u001b[39m.\u001b[39m_id\n\u001b[1;32m--> 410\u001b[0m \u001b[39mreturn\u001b[39;00m \u001b[39mself\u001b[39;49m\u001b[39m.\u001b[39;49m_parent\u001b[39m.\u001b[39;49mexecute(command, params)\n",
      "File \u001b[1;32m~\\AppData\\Roaming\\Python\\Python311\\site-packages\\selenium\\webdriver\\remote\\webdriver.py:444\u001b[0m, in \u001b[0;36mWebDriver.execute\u001b[1;34m(self, driver_command, params)\u001b[0m\n\u001b[0;32m    442\u001b[0m response \u001b[39m=\u001b[39m \u001b[39mself\u001b[39m\u001b[39m.\u001b[39mcommand_executor\u001b[39m.\u001b[39mexecute(driver_command, params)\n\u001b[0;32m    443\u001b[0m \u001b[39mif\u001b[39;00m response:\n\u001b[1;32m--> 444\u001b[0m     \u001b[39mself\u001b[39;49m\u001b[39m.\u001b[39;49merror_handler\u001b[39m.\u001b[39;49mcheck_response(response)\n\u001b[0;32m    445\u001b[0m     response[\u001b[39m\"\u001b[39m\u001b[39mvalue\u001b[39m\u001b[39m\"\u001b[39m] \u001b[39m=\u001b[39m \u001b[39mself\u001b[39m\u001b[39m.\u001b[39m_unwrap_value(response\u001b[39m.\u001b[39mget(\u001b[39m\"\u001b[39m\u001b[39mvalue\u001b[39m\u001b[39m\"\u001b[39m, \u001b[39mNone\u001b[39;00m))\n\u001b[0;32m    446\u001b[0m     \u001b[39mreturn\u001b[39;00m response\n",
      "File \u001b[1;32m~\\AppData\\Roaming\\Python\\Python311\\site-packages\\selenium\\webdriver\\remote\\errorhandler.py:249\u001b[0m, in \u001b[0;36mErrorHandler.check_response\u001b[1;34m(self, response)\u001b[0m\n\u001b[0;32m    247\u001b[0m         alert_text \u001b[39m=\u001b[39m value[\u001b[39m\"\u001b[39m\u001b[39malert\u001b[39m\u001b[39m\"\u001b[39m]\u001b[39m.\u001b[39mget(\u001b[39m\"\u001b[39m\u001b[39mtext\u001b[39m\u001b[39m\"\u001b[39m)\n\u001b[0;32m    248\u001b[0m     \u001b[39mraise\u001b[39;00m exception_class(message, screen, stacktrace, alert_text)  \u001b[39m# type: ignore[call-arg]  # mypy is not smart enough here\u001b[39;00m\n\u001b[1;32m--> 249\u001b[0m \u001b[39mraise\u001b[39;00m exception_class(message, screen, stacktrace)\n",
      "\u001b[1;31mElementNotInteractableException\u001b[0m: Message: element not interactable\n  (Session info: chrome=109.0.5414.75)\nStacktrace:\nBacktrace:\n\t(No symbol) [0x00A76643]\n\t(No symbol) [0x00A0BE21]\n\t(No symbol) [0x0090D960]\n\t(No symbol) [0x009423A7]\n\t(No symbol) [0x00936B13]\n\t(No symbol) [0x0095FD7C]\n\t(No symbol) [0x0093641F]\n\t(No symbol) [0x009600D4]\n\t(No symbol) [0x00976B09]\n\t(No symbol) [0x0095FB76]\n\t(No symbol) [0x009349C1]\n\t(No symbol) [0x00935E5D]\n\tGetHandleVerifier [0x00CEA142+2497106]\n\tGetHandleVerifier [0x00D185D3+2686691]\n\tGetHandleVerifier [0x00D1BB9C+2700460]\n\tGetHandleVerifier [0x00B23B10+635936]\n\t(No symbol) [0x00A14A1F]\n\t(No symbol) [0x00A1A418]\n\t(No symbol) [0x00A1A505]\n\t(No symbol) [0x00A2508B]\n\tBaseThreadInitThunk [0x759E6BD9+25]\n\tRtlGetFullPathName_UEx [0x77058FD2+1218]\n\tRtlGetFullPathName_UEx [0x77058F9D+1165]\n"
     ]
    }
   ],
   "source": [
    "# cross check with stock level\n",
    "os.chdir(\"Check\")\n",
    "file_path = os.listdir()[0]\n",
    "stock_df = pd.read_excel(file_path,index_col=None, header=0)\n",
    "final_list = []\n",
    "os.chdir(\"..\")\n",
    "os.chdir(\"Update\")\n",
    "for file in os.listdir():\n",
    "    # Check whether file is in text format or not\n",
    "    if file.endswith(\".xls\"):\n",
    "        file_path = f\"{file}\" \n",
    "        df, havestock_df, preorder_df = pd.DataFrame(), pd.DataFrame(), pd.DataFrame()\n",
    "        \n",
    "        df = pd.read_excel(file_path,index_col=None, header=0)\n",
    "        df = df.drop(index=0)\n",
    "        preorder_df = df[df['Preorder Product'] == \"Y\"]\n",
    "        havestock_df = preorder_df[preorder_df['Quantity (DO NOT EDIT)'] > 0]\n",
    "        for barcode in havestock_df[\"Barcode\"]:\n",
    "            check_stock_df = stock_df.loc[stock_df['商品條碼'] == barcode]\n",
    "            if int(check_stock_df['預設倉庫']) > 0:\n",
    "                tmp_df = pd.DataFrame()\n",
    "                tmp_df = df.loc[df['Barcode'] == barcode]\n",
    "                if tmp_df.shape[0] > 0:\n",
    "                    for sku_id in tmp_df['Product ID (DO NOT EDIT)']:\n",
    "                        print(\"Now process: \" , tmp_df['Product Name (Traditional Chinese)'], tmp_df['Barcode'])\n",
    "                        driver.get(\"https://admin.shoplineapp.com/admin/waddystore/products/\"+sku_id+\"/edit\")\n",
    "                        print(\"Now browsing to SKU: \" + sku_id)\n",
    "                        varient_qty = tmp_df[\"Variant Quantity (DO NOT EDIT)\"]\n",
    "                        print(np.isnan(varient_qty.tolist()[0]))\n",
    "                        if np.isnan(varient_qty.tolist()[0]):\n",
    "                            driver.find_element(By.XPATH,'//*[@id=\"product_form\"]/div[1]/div[3]/ul/li[4]/a').click()\n",
    "                            print(\"Go to Price and Quantity Tab\")\n",
    "                            accept_button = driver.find_element(By.XPATH,'//*[@id=\"productForm-pricing\"]/div/div[3]/div[2]/div[1]/div/div[2]/div/div[2]/label/input')\n",
    "\n",
    "                            if accept_button.is_selected:\n",
    "                                accept_button.click()\n",
    "                                print(\"Unticked 缺貨時可接單\")\n",
    "                            elif not accept_button.is_selected:\n",
    "                                print(\"Already Unticked 缺貨時可接單\")\n",
    "\n",
    "                            \n",
    "                        else:\n",
    "                            driver.find_element(By.XPATH,'//*[@id=\"product_form\"]/div[1]/div[3]/ul/li[5]/a').click()\n",
    "                            print(\"Go to Variations Tab\")\n",
    "                            accept_button = driver.find_element(By.XPATH,'//*[@id=\"productForm-variations\"]/div/div[3]/div[3]/div[1]/div/div/div[2]/div/div[5]/label/input')\n",
    "                            if accept_button.is_selected:\n",
    "                                accept_button.click()\n",
    "                                print(\"Unticked 缺貨時可接單\")\n",
    "                            elif not accept_button.is_selected:\n",
    "                                print(\"Already Unticked 缺貨時可接單\")\n",
    "\n",
    "                        driver.find_element(By.XPATH,'//*[@id=\"product_form\"]/div[1]/div[3]/ul/li[8]/a').click()\n",
    "                        print(\"Go to Settings Tab\")\n",
    "\n",
    "                        pre_order_switch = driver.find_element(By.XPATH,'//*[@id=\"productForm-settings\"]/div[1]/div[3]/div[1]/div/div[2]/div/div[1]/div')\n",
    "                        pre_order_switch_classess = pre_order_switch.get_attribute(\"class\")\n",
    "                        if \"switch-on\" in pre_order_switch_classess:\n",
    "                            driver.find_element(By.XPATH,'//*[@id=\"productForm-settings\"]/div[1]/div[3]/div[1]/div/div[2]/div/div[1]/div/span[2]').click()\n",
    "                            print(\"Switched off Preorder Product Setting\")\n",
    "                        else:\n",
    "                            print(\"Skip 2\")\n",
    "\n",
    "                        driver.find_element(By.XPATH,'//*[@id=\"product_form\"]/div[1]/div[1]/div/span[2]/button/span[2]').click()\n",
    "                        print(\"Saved changes, completed\")\n",
    "\n",
    "                        final_list.append(tmp_df['Product Name (Traditional Chinese)'].tolist()[0])\n",
    "                        print(\"Complete SKU\")\n",
    "\n",
    "print(final_list)"
   ]
  }
 ],
 "metadata": {
  "kernelspec": {
   "display_name": "Python 3",
   "language": "python",
   "name": "python3"
  },
  "language_info": {
   "codemirror_mode": {
    "name": "ipython",
    "version": 3
   },
   "file_extension": ".py",
   "mimetype": "text/x-python",
   "name": "python",
   "nbconvert_exporter": "python",
   "pygments_lexer": "ipython3",
   "version": "3.7.4 (tags/v3.7.4:e09359112e, Jul  8 2019, 20:34:20) [MSC v.1916 64 bit (AMD64)]"
  },
  "orig_nbformat": 4,
  "vscode": {
   "interpreter": {
    "hash": "d2561fb63e72dfdb66f0f6990a2d928a8481c30f37a2ae20c52a5a9cbb6553d9"
   }
  }
 },
 "nbformat": 4,
 "nbformat_minor": 2
}
