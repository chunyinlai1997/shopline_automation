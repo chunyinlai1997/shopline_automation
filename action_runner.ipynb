{
 "cells": [
  {
   "attachments": {},
   "cell_type": "markdown",
   "metadata": {},
   "source": [
    "- You may encounter NoSuchElementException or ElementNotInteractableException, try to run this part of code again\n",
    "- if issues still can't be solved, please report to Willon"
   ]
  },
  {
   "cell_type": "code",
   "execution_count": 1,
   "metadata": {},
   "outputs": [],
   "source": [
    "#must run\n",
    "\n",
    "import preorder\n",
    "#preorder class\n",
    "pbot = preorder.Preorder()"
   ]
  },
  {
   "cell_type": "code",
   "execution_count": 2,
   "metadata": {},
   "outputs": [
    {
     "name": "stdout",
     "output_type": "stream",
     "text": [
      "Login Shopline Admin manually.\n",
      "Collected data....\n",
      "total items found: 122\n",
      "Process items: \n",
      "[]\n",
      "All Completed, End Task.\n"
     ]
    }
   ],
   "source": [
    "# Execute Close Pre-order, optional\n",
    "pbot.PreOrderClose()"
   ]
  },
  {
   "cell_type": "code",
   "execution_count": 3,
   "metadata": {},
   "outputs": [
    {
     "name": "stdout",
     "output_type": "stream",
     "text": [
      "Login Shopline Admin manually.\n",
      "Your exclude list:\n",
      "['']\n",
      "items found: \n",
      "Relove 淨柔白桃 私密美白賦活晶球凝露 30ml\n",
      "Dame Products 玩具收納袋 天空藍\n",
      "Dame Products Arousal Serum 女士敏感提升乳霜 30ml\n",
      "Bathmate Hydromax 5 肉棒增大泵\n",
      "Collected data....\n",
      "Process items: \n",
      "[['5ff9b9d015355800205afdbc', False, 'A'], ['609cd1e7f874340036bbf394', False, 'C'], ['609cf85ffa1df60020139a3d', False, 'C'], ['5f6ef021aedc580032761548', True, 'B']]\n",
      "Now browsing to SKU: 5ff9b9d015355800205afdbc\n",
      "Go to Price and Quantity Tab\n",
      "Checkbox Status is  None\n",
      "clicking checkbox\n",
      "Checkbox Status is  true\n",
      "pass clicking checkbox, already checked\n",
      "Go to Settings Tab\n",
      "Not yet switched on Preorder Product Setting\n",
      "Switched on Preorder Product Setting\n",
      "Typed in Preorder Product Note (English)\n",
      "Typed in Preorder Product Note (Chinese)\n",
      "Saved changes, completed\n",
      "Now browsing to SKU: 609cd1e7f874340036bbf394\n",
      "Go to Price and Quantity Tab\n",
      "Checkbox Status is  None\n",
      "clicking checkbox\n",
      "Checkbox Status is  true\n",
      "pass clicking checkbox, already checked\n",
      "Go to Settings Tab\n",
      "Not yet switched on Preorder Product Setting\n",
      "Switched on Preorder Product Setting\n",
      "Typed in Preorder Product Note (English)\n",
      "Typed in Preorder Product Note (Chinese)\n",
      "Saved changes, completed\n",
      "Now browsing to SKU: 609cf85ffa1df60020139a3d\n",
      "Go to Price and Quantity Tab\n",
      "Checkbox Status is  None\n",
      "clicking checkbox\n",
      "Checkbox Status is  true\n",
      "pass clicking checkbox, already checked\n",
      "Go to Settings Tab\n",
      "Not yet switched on Preorder Product Setting\n",
      "Switched on Preorder Product Setting\n",
      "Typed in Preorder Product Note (English)\n",
      "Typed in Preorder Product Note (Chinese)\n",
      "Saved changes, completed\n",
      "Now browsing to SKU: 5f6ef021aedc580032761548\n",
      "Go to Variations Tab\n",
      "Checkbox Status is  None\n",
      "clicking checkbox\n",
      "Go to Settings Tab\n",
      "Not yet switched on Preorder Product Setting\n",
      "Switched on Preorder Product Setting\n",
      "Typed in Preorder Product Note (English)\n",
      "Typed in Preorder Product Note (Chinese)\n",
      "Saved changes, completed\n",
      "All Completed, End Task.\n"
     ]
    }
   ],
   "source": [
    "# Execute Open Pre-order, optional\n",
    "pbot.PreOrderOpen()"
   ]
  }
 ],
 "metadata": {
  "kernelspec": {
   "display_name": "Python 3",
   "language": "python",
   "name": "python3"
  },
  "language_info": {
   "codemirror_mode": {
    "name": "ipython",
    "version": 3
   },
   "file_extension": ".py",
   "mimetype": "text/x-python",
   "name": "python",
   "nbconvert_exporter": "python",
   "pygments_lexer": "ipython3",
   "version": "3.11.0"
  },
  "orig_nbformat": 4,
  "vscode": {
   "interpreter": {
    "hash": "de47f5c92c0ee6f12a59a5613ac5feff6aab19ddff207ba0b3964cced08c4ccc"
   }
  }
 },
 "nbformat": 4,
 "nbformat_minor": 2
}
