{
 "cells": [
  {
   "attachments": {},
   "cell_type": "markdown",
   "metadata": {},
   "source": [
    "Before running this application, please remove and replace all files under data/inventory and data/updates in order to execute latest changes.\n",
    "\n",
    "data/inventory\n",
    "https://admin.shoplineapp.com/admin/waddystore/reports?createdBy=pos\n",
    "實體店 > 庫存總表\n",
    "Retail Store > Product Inventory Report\n",
    "\n",
    "data/updates\n",
    "https://admin.shoplineapp.com/admin/waddystore/products/import/bulkupload_v2\n",
    "匯出商品更新檔\n",
    "Export Product Bulk Update File"
   ]
  },
  {
   "cell_type": "code",
   "execution_count": 7,
   "metadata": {},
   "outputs": [],
   "source": [
    "import preorder\n",
    "import os"
   ]
  },
  {
   "cell_type": "code",
   "execution_count": 8,
   "metadata": {},
   "outputs": [],
   "source": [
    "inventory_folder_path = 'data/inventory/'\n",
    "udpate_folder_path = 'data/updates/'"
   ]
  },
  {
   "cell_type": "code",
   "execution_count": 9,
   "metadata": {},
   "outputs": [],
   "source": [
    "#preorder class\n",
    "pbot = preorder.Preorder()"
   ]
  },
  {
   "attachments": {},
   "cell_type": "markdown",
   "metadata": {},
   "source": [
    "- You may encounter NoSuchElementException or ElementNotInteractableException, try to run this part of code again"
   ]
  },
  {
   "cell_type": "code",
   "execution_count": 10,
   "metadata": {},
   "outputs": [
    {
     "name": "stdout",
     "output_type": "stream",
     "text": [
      "[]\n",
      "Clicker starts\n",
      "Login sucessful\n",
      "All Completed, End Task.\n"
     ]
    }
   ],
   "source": [
    "# Execute Close Pre-order\n",
    "pbot.PreOrderClose(udpate_folder_path, inventory_folder_path)"
   ]
  },
  {
   "cell_type": "code",
   "execution_count": 11,
   "metadata": {},
   "outputs": [
    {
     "name": "stdout",
     "output_type": "stream",
     "text": [
      "c:\\Users\\Waddy Store\\Documents\\Code Project\\shopline_automation\n",
      "[['60e681301658610032056b54', '4582593580986', False, 'A'], ['61f217280ba7970023db5163', '4571361303179', False, 'C'], ['62d266e92ce62a0020196733', '12329665', False, 'C']]\n",
      "Clicker starts\n",
      "Login sucessful\n",
      "Now browsing to SKU: 60e681301658610032056b54\n",
      "Go to Price and Quantity Tab\n",
      "Checkbox Status is  true\n",
      "pass clicking checkbox, already checked\n",
      "Checkbox Status is  true\n",
      "pass clicking checkbox, already checked\n",
      "Go to Settings Tab\n",
      "Already switched on Preorder Product Setting\n",
      "Saved changes, completed\n",
      "Now browsing to SKU: 61f217280ba7970023db5163\n",
      "Go to Price and Quantity Tab\n",
      "Checkbox Status is  true\n",
      "pass clicking checkbox, already checked\n",
      "Checkbox Status is  true\n",
      "pass clicking checkbox, already checked\n",
      "Go to Settings Tab\n",
      "Already switched on Preorder Product Setting\n",
      "Saved changes, completed\n",
      "Now browsing to SKU: 62d266e92ce62a0020196733\n",
      "Go to Price and Quantity Tab\n",
      "Checkbox Status is  true\n",
      "pass clicking checkbox, already checked\n",
      "Checkbox Status is  true\n",
      "pass clicking checkbox, already checked\n",
      "Go to Settings Tab\n",
      "Already switched on Preorder Product Setting\n",
      "Saved changes, completed\n",
      "All Completed, End Task.\n"
     ]
    }
   ],
   "source": [
    "# Execute Open Pre-order\n",
    "pbot.PreOrderOpen(udpate_folder_path, inventory_folder_path)"
   ]
  },
  {
   "cell_type": "code",
   "execution_count": 12,
   "metadata": {},
   "outputs": [
    {
     "data": {
      "text/plain": [
       "'c:\\\\Users\\\\Waddy Store\\\\Documents\\\\Code Project\\\\shopline_automation'"
      ]
     },
     "execution_count": 12,
     "metadata": {},
     "output_type": "execute_result"
    }
   ],
   "source": [
    "'''\n",
    "back to parent directory if necessery\n",
    "Use this line: \n",
    "os.chdir(\"../..\")\n",
    "\n",
    "check current directory:\n",
    "os.getcwd()\n",
    "'''\n",
    "os.getcwd()"
   ]
  }
 ],
 "metadata": {
  "kernelspec": {
   "display_name": "Python 3",
   "language": "python",
   "name": "python3"
  },
  "language_info": {
   "codemirror_mode": {
    "name": "ipython",
    "version": 3
   },
   "file_extension": ".py",
   "mimetype": "text/x-python",
   "name": "python",
   "nbconvert_exporter": "python",
   "pygments_lexer": "ipython3",
   "version": "3.11.0"
  },
  "orig_nbformat": 4,
  "vscode": {
   "interpreter": {
    "hash": "5238573367df39f7286bb46f9ff5f08f63a01a80960060ce41e3c79b190280fa"
   }
  }
 },
 "nbformat": 4,
 "nbformat_minor": 2
}
