{
 "cells": [
  {
   "attachments": {},
   "cell_type": "markdown",
   "metadata": {},
   "source": [
    "- You may encounter NoSuchElementException or ElementNotInteractableException, try to run this part of code again\n",
    "- if issues still can't be solved, please report to Willon"
   ]
  },
  {
   "cell_type": "code",
   "execution_count": 1,
   "metadata": {},
   "outputs": [],
   "source": [
    "#must run\n",
    "\n",
    "import preorder\n",
    "#preorder class\n",
    "pbot = preorder.Preorder()"
   ]
  },
  {
   "cell_type": "code",
   "execution_count": 2,
   "metadata": {},
   "outputs": [
    {
     "name": "stdout",
     "output_type": "stream",
     "text": [
      "Login Shopline Admin manually.\n",
      "Collected data....\n",
      "total items found: 136\n",
      "LELO Lily 3 超靜音陰蒂迷你震動器 (深紫色/薰衣紫/極地綠)\n",
      "LELO Loki Wave 2 前列腺按摩器 (藍色/紫色/黑色)\n",
      "ToysHeart R20 4代 動漫名器飛機杯\n",
      "TENGA Flip 0 (ZERO) Electronic Vibrotation 電動迴旋震動版 飛機杯\n",
      "ToysHeart R20 3代 名器飛機杯\n",
      "Satisfyer Sexy Secret 手機遙控內褲震動器\n",
      "TENGA FLIP (0) ZERO 白色\n",
      "Process items: \n",
      "[['63fc2a8232d745000ec1d602', True], ['63e363ca9c72670020c1ae05', True], ['63734a8e89e4d9001cb8b2fc', False], ['6361ecf8aea6db002bfe29cb', False], ['61402994c94b270039c3516a', False], ['5fe2d0548fa40c002393dee9', False], ['5f3581e9c200b8003f13a07c', False]]\n",
      "Now browsing to SKU: 63fc2a8232d745000ec1d602\n",
      "Go to Variations Tab\n",
      "Checkbox Status is  true\n",
      "clicking checkbox\n",
      "Go to Settings Tab\n",
      "Switched off Preorder Product Setting\n",
      "Saved changes, completed\n",
      "Now browsing to SKU: 63e363ca9c72670020c1ae05\n",
      "Go to Variations Tab\n",
      "Checkbox Status is  true\n",
      "clicking checkbox\n",
      "Go to Settings Tab\n",
      "Switched off Preorder Product Setting\n",
      "Saved changes, completed\n",
      "Now browsing to SKU: 63734a8e89e4d9001cb8b2fc\n",
      "Go to Price and Quantity Tab\n",
      "Checkbox Status is  true\n",
      "clicking checkbox\n",
      "ElementNotInteractableException\n",
      "Checkbox Status is  true\n",
      "clicking checkbox\n",
      "Go to Settings Tab\n",
      "Switched off Preorder Product Setting\n",
      "Saved changes, completed\n",
      "Now browsing to SKU: 6361ecf8aea6db002bfe29cb\n",
      "Go to Price and Quantity Tab\n",
      "Checkbox Status is  true\n",
      "clicking checkbox\n",
      "Go to Settings Tab\n",
      "Switched off Preorder Product Setting\n",
      "Saved changes, completed\n",
      "Now browsing to SKU: 61402994c94b270039c3516a\n",
      "Go to Price and Quantity Tab\n",
      "Checkbox Status is  true\n",
      "clicking checkbox\n",
      "Go to Settings Tab\n",
      "Switched off Preorder Product Setting\n",
      "Saved changes, completed\n",
      "Now browsing to SKU: 5fe2d0548fa40c002393dee9\n",
      "Go to Price and Quantity Tab\n",
      "Checkbox Status is  true\n",
      "clicking checkbox\n",
      "Go to Settings Tab\n",
      "Switched off Preorder Product Setting\n",
      "Saved changes, completed\n",
      "Now browsing to SKU: 5f3581e9c200b8003f13a07c\n",
      "Go to Price and Quantity Tab\n",
      "Checkbox Status is  true\n",
      "clicking checkbox\n",
      "Go to Settings Tab\n",
      "Switched off Preorder Product Setting\n",
      "Saved changes, completed\n",
      "All Completed, End Task.\n"
     ]
    }
   ],
   "source": [
    "# Execute Close Pre-order, optional\n",
    "pbot.PreOrderClose()"
   ]
  },
  {
   "cell_type": "code",
   "execution_count": 4,
   "metadata": {},
   "outputs": [
    {
     "name": "stdout",
     "output_type": "stream",
     "text": [
      "Login Shopline Admin manually.\n",
      "Your exclude list:\n",
      "['HARU POCKET']\n",
      "items found: \n",
      "SISTALK 小怪獸 魔吻 Magic Kiss 舔舔吸啜震動器\n",
      "SSI Japan 狂亂 草本精華 4枝裝 【女性用】\n",
      "Collected data....\n",
      "Process items: \n",
      "[['60140c6a44d3b313ef13a0c7', True, 'A'], ['602eb7d7c2742a002f6e2653', False, 'C']]\n",
      "Now browsing to SKU: 60140c6a44d3b313ef13a0c7\n",
      "Go to Variations Tab\n",
      "Checkbox Status is  true\n",
      "pass clicking checkbox, already checked\n",
      "Go to Settings Tab\n",
      "Not yet switched on Preorder Product Setting\n",
      "Switched on Preorder Product Setting\n",
      "Typed in Preorder Product Note (English)\n",
      "Typed in Preorder Product Note (Chinese)\n",
      "Saved changes, completed\n",
      "Now browsing to SKU: 602eb7d7c2742a002f6e2653\n",
      "Go to Price and Quantity Tab\n",
      "Checkbox Status is  None\n",
      "clicking checkbox\n",
      "Checkbox Status is  true\n",
      "pass clicking checkbox, already checked\n",
      "Go to Settings Tab\n",
      "Not yet switched on Preorder Product Setting\n",
      "Switched on Preorder Product Setting\n",
      "Typed in Preorder Product Note (English)\n",
      "Typed in Preorder Product Note (Chinese)\n",
      "Saved changes, completed\n",
      "All Completed, End Task.\n"
     ]
    }
   ],
   "source": [
    "# Execute Open Pre-order, optional\n",
    "pbot.PreOrderOpen()"
   ]
  }
 ],
 "metadata": {
  "kernelspec": {
   "display_name": "Python 3",
   "language": "python",
   "name": "python3"
  },
  "language_info": {
   "codemirror_mode": {
    "name": "ipython",
    "version": 3
   },
   "file_extension": ".py",
   "mimetype": "text/x-python",
   "name": "python",
   "nbconvert_exporter": "python",
   "pygments_lexer": "ipython3",
   "version": "3.11.2"
  },
  "orig_nbformat": 4,
  "vscode": {
   "interpreter": {
    "hash": "de47f5c92c0ee6f12a59a5613ac5feff6aab19ddff207ba0b3964cced08c4ccc"
   }
  }
 },
 "nbformat": 4,
 "nbformat_minor": 2
}
