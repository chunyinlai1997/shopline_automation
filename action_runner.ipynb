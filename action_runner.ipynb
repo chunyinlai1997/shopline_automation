{
 "cells": [
  {
   "attachments": {},
   "cell_type": "markdown",
   "metadata": {},
   "source": [
    "- You may encounter NoSuchElementException or ElementNotInteractableException, try to run this part of code again\n",
    "- if issues still can't be solved, please report to Willon"
   ]
  },
  {
   "cell_type": "code",
   "execution_count": 1,
   "metadata": {},
   "outputs": [],
   "source": [
    "#must run\n",
    "\n",
    "import preorder\n",
    "#preorder class\n",
    "pbot = preorder.Preorder()"
   ]
  },
  {
   "cell_type": "code",
   "execution_count": 2,
   "metadata": {},
   "outputs": [
    {
     "name": "stdout",
     "output_type": "stream",
     "text": [
      "Login Shopline Admin successful\n",
      "total items found: 139\n",
      "Satisfyer Men Classic 真空飛機杯 銀色\n",
      "We-Vibe Bond 長戴型持久環\n",
      "ICHIKI 夜狼套裝 [30ml飲劑+ 4粒丸打孖勁硬]\n",
      "HARU: Travel Kit 潤滑液便攜裝 - DEWY 伊蘭絲柔長效 15ml\n",
      "HARU: Travel Kit 潤滑液便攜裝 - ORGASM 草本熱浪情迷 15ml\n",
      "BATTLEMAN Oyster King 蠔王戰鬥丸 (400mg x 30粒)\n",
      "Love Dear 女性專用 0號私膚露 隨身包 5ml\n",
      "Process items: \n",
      "[['61cab9494b1716002f13c588', False], ['61386488714e40003237c792', False], ['6096637c66c67800146f821b', False], ['6088025420080400172aa188', False], ['6087fc99f0eff900206da03a', False], ['602df919cd8227001110e7db', False], ['5fa920e025751a00298c28fe', False]]\n",
      "Clicker starts\n",
      "Login Shopline Admin successful\n",
      "Now browsing to SKU: 61cab9494b1716002f13c588\n",
      "Go to Price and Quantity Tab\n",
      "Checkbox Status is  true\n",
      "clicking checkbox\n",
      "Go to Settings Tab\n",
      "Switched off Preorder Product Setting\n",
      "Saved changes, completed\n",
      "Now browsing to SKU: 61386488714e40003237c792\n",
      "Go to Price and Quantity Tab\n",
      "Checkbox Status is  true\n",
      "clicking checkbox\n",
      "Go to Settings Tab\n",
      "Switched off Preorder Product Setting\n",
      "Saved changes, completed\n",
      "Now browsing to SKU: 6096637c66c67800146f821b\n",
      "Go to Price and Quantity Tab\n",
      "Checkbox Status is  true\n",
      "clicking checkbox\n",
      "Go to Settings Tab\n",
      "Switched off Preorder Product Setting\n",
      "Saved changes, completed\n",
      "Now browsing to SKU: 6088025420080400172aa188\n",
      "Go to Price and Quantity Tab\n",
      "Checkbox Status is  true\n",
      "clicking checkbox\n",
      "Go to Settings Tab\n",
      "Switched off Preorder Product Setting\n",
      "Saved changes, completed\n",
      "Now browsing to SKU: 6087fc99f0eff900206da03a\n",
      "Go to Price and Quantity Tab\n",
      "Checkbox Status is  true\n",
      "clicking checkbox\n",
      "Go to Settings Tab\n",
      "Switched off Preorder Product Setting\n",
      "Saved changes, completed\n",
      "Now browsing to SKU: 602df919cd8227001110e7db\n",
      "Go to Price and Quantity Tab\n",
      "Checkbox Status is  true\n",
      "clicking checkbox\n",
      "Go to Settings Tab\n",
      "Switched off Preorder Product Setting\n",
      "Saved changes, completed\n",
      "Now browsing to SKU: 5fa920e025751a00298c28fe\n",
      "Go to Price and Quantity Tab\n",
      "Checkbox Status is  true\n",
      "clicking checkbox\n",
      "Go to Settings Tab\n",
      "Switched off Preorder Product Setting\n",
      "Saved changes, completed\n",
      "All Completed, End Task.\n"
     ]
    }
   ],
   "source": [
    "# Execute Close Pre-order, optional\n",
    "pbot.PreOrderClose()"
   ]
  },
  {
   "cell_type": "code",
   "execution_count": 2,
   "metadata": {},
   "outputs": [
    {
     "name": "stdout",
     "output_type": "stream",
     "text": [
      "Login Shopline Admin successful\n",
      "Your exclude list:\n",
      "['HARU POCKET']\n",
      "items found: \n",
      "ToysHeart R-20 Puni 第二代 動漫飛機杯\n",
      "Relove 私密衣物蛋白酵素去漬抑菌手洗精 Tiffany 白麝香玫瑰 220ml\n",
      "SN-197 游泳課上的女教師\n",
      "Sistalk 小怪獸 Play 吸啜震動掌控雙跳蛋\n",
      "Collected data....\n",
      "Process items: \n",
      "[['601180251b243700329a5059', False, 'C'], ['5fc0bd8605a1910014fea9c7', False, 'A'], ['632d7e79ce4f7b00190ee0d1', False, 'C'], ['63648770c616950032548b26', False, 'A']]\n",
      "Clicker starts\n",
      "Login Shopline Admin successful\n",
      "Now browsing to SKU: 601180251b243700329a5059\n",
      "Go to Price and Quantity Tab\n",
      "Checkbox Status is  None\n",
      "clicking checkbox\n",
      "Checkbox Status is  true\n",
      "pass clicking checkbox, already checked\n",
      "Go to Settings Tab\n",
      "Not yet switched on Preorder Product Setting\n",
      "Switched on Preorder Product Setting\n",
      "Typed in Preorder Product Note (English)\n",
      "Typed in Preorder Product Note (Chinese)\n",
      "Saved changes, completed\n",
      "Now browsing to SKU: 5fc0bd8605a1910014fea9c7\n",
      "Go to Price and Quantity Tab\n",
      "Checkbox Status is  None\n",
      "clicking checkbox\n",
      "Checkbox Status is  true\n",
      "pass clicking checkbox, already checked\n",
      "Go to Settings Tab\n",
      "Not yet switched on Preorder Product Setting\n",
      "Switched on Preorder Product Setting\n",
      "Typed in Preorder Product Note (English)\n",
      "Typed in Preorder Product Note (Chinese)\n",
      "Saved changes, completed\n",
      "Now browsing to SKU: 632d7e79ce4f7b00190ee0d1\n",
      "Go to Price and Quantity Tab\n",
      "Checkbox Status is  None\n",
      "clicking checkbox\n",
      "Checkbox Status is  true\n",
      "pass clicking checkbox, already checked\n",
      "Go to Settings Tab\n",
      "Not yet switched on Preorder Product Setting\n",
      "Switched on Preorder Product Setting\n",
      "Typed in Preorder Product Note (English)\n",
      "Typed in Preorder Product Note (Chinese)\n",
      "Saved changes, completed\n",
      "Now browsing to SKU: 63648770c616950032548b26\n",
      "Go to Price and Quantity Tab\n",
      "Checkbox Status is  None\n",
      "clicking checkbox\n",
      "Checkbox Status is  true\n",
      "pass clicking checkbox, already checked\n",
      "Go to Settings Tab\n",
      "Not yet switched on Preorder Product Setting\n",
      "Switched on Preorder Product Setting\n",
      "Typed in Preorder Product Note (English)\n",
      "Typed in Preorder Product Note (Chinese)\n",
      "Saved changes, completed\n",
      "All Completed, End Task.\n"
     ]
    }
   ],
   "source": [
    "# Execute Open Pre-order, optional\n",
    "pbot.PreOrderOpen()"
   ]
  }
 ],
 "metadata": {
  "kernelspec": {
   "display_name": "Python 3",
   "language": "python",
   "name": "python3"
  },
  "language_info": {
   "codemirror_mode": {
    "name": "ipython",
    "version": 3
   },
   "file_extension": ".py",
   "mimetype": "text/x-python",
   "name": "python",
   "nbconvert_exporter": "python",
   "pygments_lexer": "ipython3",
   "version": "3.11.2"
  },
  "orig_nbformat": 4,
  "vscode": {
   "interpreter": {
    "hash": "de47f5c92c0ee6f12a59a5613ac5feff6aab19ddff207ba0b3964cced08c4ccc"
   }
  }
 },
 "nbformat": 4,
 "nbformat_minor": 2
}
