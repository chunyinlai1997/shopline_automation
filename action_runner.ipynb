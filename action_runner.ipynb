{
 "cells": [
  {
   "attachments": {},
   "cell_type": "markdown",
   "metadata": {},
   "source": [
    "- You may encounter NoSuchElementException or ElementNotInteractableException, try to run this part of code again\n",
    "- if issues still can't be solved, please report to Willon"
   ]
  },
  {
   "cell_type": "code",
   "execution_count": 1,
   "metadata": {},
   "outputs": [],
   "source": [
    "#must run\n",
    "\n",
    "import preorder\n",
    "#preorder class\n",
    "pbot = preorder.Preorder()"
   ]
  },
  {
   "cell_type": "code",
   "execution_count": 2,
   "metadata": {},
   "outputs": [
    {
     "name": "stdout",
     "output_type": "stream",
     "text": [
      "Login Shopline Admin successful\n",
      "total items found: 131\n",
      "Relove 私密肌R²深層傳明酸淨白潔淨精華凝露 120ml\n",
      "Relove 瞬淨 Ku溜零毛髮霜 80ml\n",
      "Process items: \n",
      "[['60ed19e5b0467d001a43c127', False], ['60828de37dad10003597a1cc', False]]\n",
      "Clicker starts\n",
      "Login sucessful\n",
      "Now browsing to SKU: 60ed19e5b0467d001a43c127\n",
      "Go to Price and Quantity Tab\n",
      "Checkbox Status is  true\n",
      "clicking checkbox\n",
      "Go to Settings Tab\n",
      "Switched off Preorder Product Setting\n",
      "Saved changes, completed\n",
      "Now browsing to SKU: 60828de37dad10003597a1cc\n",
      "Go to Price and Quantity Tab\n"
     ]
    }
   ],
   "source": [
    "# Execute Close Pre-order, optional\n",
    "pbot.PreOrderClose()"
   ]
  },
  {
   "cell_type": "code",
   "execution_count": null,
   "metadata": {},
   "outputs": [],
   "source": [
    "# Execute Open Pre-order, optional\n",
    "pbot.PreOrderOpen()"
   ]
  }
 ],
 "metadata": {
  "kernelspec": {
   "display_name": "Python 3",
   "language": "python",
   "name": "python3"
  },
  "language_info": {
   "codemirror_mode": {
    "name": "ipython",
    "version": 3
   },
   "file_extension": ".py",
   "mimetype": "text/x-python",
   "name": "python",
   "nbconvert_exporter": "python",
   "pygments_lexer": "ipython3",
   "version": "3.11.2"
  },
  "orig_nbformat": 4,
  "vscode": {
   "interpreter": {
    "hash": "de47f5c92c0ee6f12a59a5613ac5feff6aab19ddff207ba0b3964cced08c4ccc"
   }
  }
 },
 "nbformat": 4,
 "nbformat_minor": 2
}
