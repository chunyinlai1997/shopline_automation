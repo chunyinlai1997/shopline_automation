{
 "cells": [
  {
   "attachments": {},
   "cell_type": "markdown",
   "metadata": {},
   "source": [
    "- You may encounter NoSuchElementException or ElementNotInteractableException, try to run this part of code again\n",
    "- if issues still can't be solved, please report to Willon"
   ]
  },
  {
   "cell_type": "code",
   "execution_count": 9,
   "metadata": {},
   "outputs": [],
   "source": [
    "#must run\n",
    "\n",
    "import preorder\n",
    "#preorder class\n",
    "pbot = preorder.Preorder()"
   ]
  },
  {
   "cell_type": "code",
   "execution_count": 10,
   "metadata": {},
   "outputs": [
    {
     "name": "stdout",
     "output_type": "stream",
     "text": [
      "Login Shopline Admin manually.\n",
      "Collected data....\n",
      "total items found: 121\n",
      "Otouch Inscup 2 加熱吸啜電動飛機杯\n",
      "Process items: \n",
      "[['62ea311c68a5d4001c7775b5', False]]\n",
      "Now browsing to SKU: 62ea311c68a5d4001c7775b5\n",
      "Go to Price and Quantity Tab\n",
      "Checkbox Status is  true\n",
      "clicking checkbox\n",
      "Go to Settings Tab\n",
      "Switched off Preorder Product Setting\n",
      "Saved changes, completed\n",
      "All Completed, End Task.\n"
     ]
    }
   ],
   "source": [
    "# Execute Close Pre-order, optional\n",
    "pbot.PreOrderClose()"
   ]
  },
  {
   "cell_type": "code",
   "execution_count": 11,
   "metadata": {},
   "outputs": [
    {
     "name": "stdout",
     "output_type": "stream",
     "text": [
      "Login Shopline Admin manually.\n",
      "Your exclude list:\n",
      "[]\n",
      "items found: \n",
      "Orctan 男士自動模擬口交按摩器\n",
      "Collected data....\n",
      "Process items: \n",
      "[['6246c850ed213f00301bde71', False, 'A']]\n",
      "Now browsing to SKU: 6246c850ed213f00301bde71\n",
      "Go to Price and Quantity Tab\n",
      "Checkbox Status is  true\n",
      "pass clicking checkbox, already checked\n",
      "Checkbox Status is  true\n",
      "pass clicking checkbox, already checked\n",
      "Go to Settings Tab\n",
      "Not yet switched on Preorder Product Setting\n",
      "Switched on Preorder Product Setting\n",
      "Typed in Preorder Product Note (English)\n",
      "Typed in Preorder Product Note (Chinese)\n",
      "Saved changes, completed\n",
      "All Completed, End Task.\n"
     ]
    }
   ],
   "source": [
    "# Execute Open Pre-order, optional\n",
    "pbot.PreOrderOpen()"
   ]
  }
 ],
 "metadata": {
  "kernelspec": {
   "display_name": "Python 3",
   "language": "python",
   "name": "python3"
  },
  "language_info": {
   "codemirror_mode": {
    "name": "ipython",
    "version": 3
   },
   "file_extension": ".py",
   "mimetype": "text/x-python",
   "name": "python",
   "nbconvert_exporter": "python",
   "pygments_lexer": "ipython3",
   "version": "3.11.0"
  },
  "orig_nbformat": 4,
  "vscode": {
   "interpreter": {
    "hash": "de47f5c92c0ee6f12a59a5613ac5feff6aab19ddff207ba0b3964cced08c4ccc"
   }
  }
 },
 "nbformat": 4,
 "nbformat_minor": 2
}
