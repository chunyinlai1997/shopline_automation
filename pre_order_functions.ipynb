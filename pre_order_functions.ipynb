{
 "cells": [
  {
   "attachments": {},
   "cell_type": "markdown",
   "metadata": {},
   "source": [
    "Before running this application, please remove and replace all files under data/inventory and data/updates in order to execute latest changes.\n",
    "\n",
    "data/inventory\n",
    "https://admin.shoplineapp.com/admin/waddystore/reports?createdBy=pos\n",
    "實體店 > 庫存總表\n",
    "Retail Store > Product Inventory Report\n",
    "\n",
    "data/updates\n",
    "https://admin.shoplineapp.com/admin/waddystore/products/import/bulkupload_v2\n",
    "匯出商品更新檔\n",
    "Export Product Bulk Update File"
   ]
  },
  {
   "cell_type": "code",
   "execution_count": 1,
   "metadata": {},
   "outputs": [
    {
     "name": "stdout",
     "output_type": "stream",
     "text": [
      "All Completed, End Task.\n"
     ]
    }
   ],
   "source": [
    "import inv_dataset\n",
    "import browser\n",
    "import os\n",
    "import pandas as pd\n",
    "import csv"
   ]
  },
  {
   "cell_type": "code",
   "execution_count": 2,
   "metadata": {},
   "outputs": [],
   "source": [
    "inventory_folder = 'data/inventory/'\n",
    "udpate_folder_path = 'data/updates/'\n",
    "\n",
    "#convert inventory xls to csv\n",
    "inventory_files = inv_dataset.Converter()\n",
    "inventory_files.to_csv(inventory_folder)\n",
    "\n",
    "#convert updates xls to csv\n",
    "update_files = inv_dataset.Converter()\n",
    "update_files.to_csv(udpate_folder_path)"
   ]
  },
  {
   "cell_type": "code",
   "execution_count": 3,
   "metadata": {},
   "outputs": [],
   "source": [
    "#read inventory csv into dataframe\n",
    "inventory = inv_dataset.Reader()\n",
    "inv_df = inventory.get_df(inventory_folder)"
   ]
  },
  {
   "cell_type": "code",
   "execution_count": 4,
   "metadata": {},
   "outputs": [
    {
     "data": {
      "text/plain": [
       "'c:\\\\Users\\\\Waddy Store\\\\Documents\\\\Code Project\\\\shopline_automation'"
      ]
     },
     "execution_count": 4,
     "metadata": {},
     "output_type": "execute_result"
    }
   ],
   "source": [
    "'''\n",
    "back to parent directory if necessery\n",
    "Use this line: \n",
    "os.chdir(\"../..\")\n",
    "\n",
    "check current directory:\n",
    "os.getcwd()\n",
    "'''\n",
    "\n",
    "os.getcwd()"
   ]
  },
  {
   "cell_type": "code",
   "execution_count": 5,
   "metadata": {},
   "outputs": [],
   "source": [
    "def PreOrderClose():\n",
    "    process_list = []\n",
    "    #Start update procedure\n",
    "    os.chdir(udpate_folder_path)\n",
    "    #go thru each bulk update form csv\n",
    "    for file in os.listdir():\n",
    "        if file.endswith(\".csv\"):\n",
    "            #in each bulk update form csv\n",
    "            file_path = f\"{file}\"\n",
    "            df = pd.read_csv(file_path, index_col=None, header=0)\n",
    "            df = df.drop(index=0)\n",
    "\n",
    "            df = df.loc[df['Preorder Product'] == \"Y\"]\n",
    "            df = df.loc[df['Status'] == \"Y\"]\n",
    "            \n",
    "            for barcode in df['Barcode']:\n",
    "                df2 = inv_df.loc[inv_df['商品條碼'] == barcode]\n",
    "                df2 = df2.loc[df2['預設倉庫'] > 0]\n",
    "                for bar in df2['商品條碼']:\n",
    "                    sku_id = df[df['Barcode']== bar]['Product ID (DO NOT EDIT)'].item()\n",
    "                    varient_id = df[df['Barcode']== bar]['Variant ID (DO NOT EDIT)'].item()\n",
    "                    has_varient = True\n",
    "                    if pd.isnull(varient_id):\n",
    "                        has_varient = False\n",
    "                    process_list.append([sku_id, bar, has_varient])\n",
    "\n",
    "    os.chdir(\"../..\") \n",
    "    print(process_list) \n",
    "    clicker = browser.Action()\n",
    "    clicker.close_preorder(process_list)   \n",
    "    print(\"All Completed, End Task.\")    "
   ]
  },
  {
   "cell_type": "code",
   "execution_count": 6,
   "metadata": {},
   "outputs": [
    {
     "name": "stdout",
     "output_type": "stream",
     "text": [
      "[['5f3b50bc09ec050048c12f99', '6971668340378', True], ['5f3c8c4da7a677003921361e', '4710006290287', False], ['5f3c90916173d6003357ca25', '4710006290218', False], ['5f3c9df00d6366003cfa30f3', '4710006290188', False], ['5fa92235e075fb16c52c0271', '69356464', False], ['60f914af9d99680029d006f8', '4580279019829', False], ['6156cc7e3c09480014c7e9dc', '4573423119346', False], ['61c43df7e560bc0026fb716e', '4582593592293', False], ['62317658eda8c40014c5a641', '4582593592309', False]]\n",
      "Clicker starts\n",
      "Login sucessful\n",
      "Now browsing to SKU: 5f3b50bc09ec050048c12f99\n",
      "Now browsing to SKU: 5f3c8c4da7a677003921361e\n",
      "Now browsing to SKU: 5f3c90916173d6003357ca25\n",
      "Now browsing to SKU: 5f3c9df00d6366003cfa30f3\n",
      "Now browsing to SKU: 5fa92235e075fb16c52c0271\n",
      "Now browsing to SKU: 60f914af9d99680029d006f8\n",
      "Now browsing to SKU: 6156cc7e3c09480014c7e9dc\n",
      "Now browsing to SKU: 61c43df7e560bc0026fb716e\n",
      "Now browsing to SKU: 62317658eda8c40014c5a641\n",
      "Go to Price and Quantity Tab\n",
      "Checkbox Status is  None\n",
      "pass clicking checkbox, already unchecked\n",
      "Go to Settings Tab\n",
      "Switched off Preorder Product Setting\n",
      "Saved changes, completed\n"
     ]
    }
   ],
   "source": [
    "PreOrderClose()"
   ]
  },
  {
   "cell_type": "code",
   "execution_count": 7,
   "metadata": {},
   "outputs": [],
   "source": [
    "def PreOrderOpen():\n",
    "    file = open(\"search/namelist.csv\", \"r\")\n",
    "    data = list(csv.reader(file, delimiter=\",\"))\n",
    "    file.close()\n",
    "    search_for = [row[0] for row in data]\n",
    "    process_list = []\n",
    "\n",
    "    #Start update procedure\n",
    "    #go thru each bulk update form csv\n",
    "    os.chdir(udpate_folder_path)\n",
    "    for file in os.listdir():\n",
    "        if file.endswith(\".csv\"):\n",
    "            #in each bulk update form csv\n",
    "            file_path = f\"{file}\"\n",
    "            update_df = pd.read_csv(file_path, index_col=None, header=0)\n",
    "            update_df = update_df.drop(index=0)\n",
    "\n",
    "            df = update_df.loc[update_df['Product Name (Traditional Chinese)'].str.contains('|'.join(search_for), na = False)]\n",
    "\n",
    "            ''' end conidtion'''\n",
    "\n",
    "            df = df.loc[df['Preorder Product'] == \"N\"]\n",
    "            df = df.loc[df['Status'] == \"Y\"]\n",
    "\n",
    "            discon_tag = 'dis'\n",
    "            df = df.loc[~df['Product Tag'].str.contains(discon_tag, na=False)]\n",
    "\n",
    "            discon_tag_manual = 'shortage'\n",
    "            df = df.loc[~df['Product Tag'].str.contains(discon_tag_manual, na=False)]\n",
    "            \n",
    "            for barcode in df['Barcode']:\n",
    "                df2 = inv_df.loc[inv_df['商品條碼'] == barcode]\n",
    "                df2 = df2.loc[df2['預設倉庫'] <= 0]\n",
    "                for bar in df2['商品條碼']:\n",
    "                    sku_id = df[df['Barcode']== bar]['Product ID (DO NOT EDIT)'].item()\n",
    "                    varient_id = df[df['Barcode']== bar]['Variant ID (DO NOT EDIT)'].item()\n",
    "                    has_varient = True\n",
    "                    if pd.isnull(varient_id):\n",
    "                        has_varient = False\n",
    "                    process_list.append([sku_id, bar, has_varient])\n",
    "\n",
    "    print(process_list) \n",
    "    clicker = browser.Action()\n",
    "    clicker.open_preorder(process_list)   \n",
    "    print(\"All Completed, End Task.\")    "
   ]
  },
  {
   "cell_type": "code",
   "execution_count": 8,
   "metadata": {},
   "outputs": [
    {
     "name": "stdout",
     "output_type": "stream",
     "text": [
      "[['5ffd80f0a167f4002fe258c1', '4560220557426', False], ['6062fa4eec7042002f6a36f0', '7350075028182', True], ['60828de37dad10003597a1cc', '4712933173367', False], ['61738c0b9525970020baaedb', '4573463893589', False], ['61a8a973e930820011531204', '71264698', False], ['61bc37facfa273002f5b418b', '4573463893541', True], ['61bc3fffcfa273002f5b44c9', '4573463893572', False], ['61c5906ae2e428236ce4e2ff', '56350922', True], ['61c5918276714800325b71b4', '70096502', True], ['61c593bb566ae40020c1ec77', '96164256', True], ['61d9cd2a54b34800262fd5f3', '36857937', True], ['62796e5849c2d900156bb270', '4571227058809', True], ['62a1a97a97f90e002724c545', '26271435', False], ['62ac4036aff40f001838ebd7', '37294609', False], ['62b324842db772002e965d4a', '53579804', False], ['62c53b923c16470032d33f11', '25512889', False], ['62c55033b0c40c0634d18783', '36911272', False], ['62c7bb2d59ceeb0023f1d483', '4573463893534', False], ['62cd318ccfd84a00297ff1e6', '36231430', True], ['62cd3812c9c55000326dc07b', '76084519', True], ['631709150decfb0d74c47037', '4573463893985', True], ['63170a8b0d00550013aab51d', '4573463894005', True], ['635601c2731473001905d5a0', '4573463892766', False], ['63561ebcef0d4f0022d3a97a', '4573463892728', True], ['6356338c2f0457001371d0fc', '4573463892919', False], ['635639a9ef0d4f001fd3b3fe', '4573463893084', True], ['635644d8c941ca0013b71351', '4573463891967', False], ['6363295ac0a19a00105216cc', '4573463891639', False], ['6374a2bd6400160025944572', '83530011', False], ['637c5b0293d9d1002e6446fb', '4061504004129', False]]\n",
      "Clicker starts\n",
      "Login sucessful\n",
      "Now browsing to SKU: 5ffd80f0a167f4002fe258c1\n",
      "Go to Price and Quantity Tab\n",
      "Checkbox Status is  true\n",
      "pass clicking checkbox, already checked\n",
      "Go to Settings Tab\n",
      "Already switched on Preorder Product Setting\n",
      "Saved changes, completed\n",
      "Now browsing to SKU: 6062fa4eec7042002f6a36f0\n",
      "Go to Variations Tab\n"
     ]
    },
    {
     "ename": "TimeoutException",
     "evalue": "Message: \n",
     "output_type": "error",
     "traceback": [
      "\u001b[1;31m---------------------------------------------------------------------------\u001b[0m",
      "\u001b[1;31mTimeoutException\u001b[0m                          Traceback (most recent call last)",
      "Cell \u001b[1;32mIn[8], line 1\u001b[0m\n\u001b[1;32m----> 1\u001b[0m PreOrderOpen()\n",
      "Cell \u001b[1;32mIn[7], line 44\u001b[0m, in \u001b[0;36mPreOrderOpen\u001b[1;34m()\u001b[0m\n\u001b[0;32m     42\u001b[0m \u001b[39mprint\u001b[39m(process_list) \n\u001b[0;32m     43\u001b[0m clicker \u001b[39m=\u001b[39m browser\u001b[39m.\u001b[39mAction()\n\u001b[1;32m---> 44\u001b[0m clicker\u001b[39m.\u001b[39;49mopen_preorder(process_list)\n",
      "File \u001b[1;32mc:\\Users\\Waddy Store\\Documents\\Code Project\\shopline_automation\\browser.py:48\u001b[0m, in \u001b[0;36mAction.open_preorder\u001b[1;34m(self, process_list)\u001b[0m\n\u001b[0;32m     46\u001b[0m \u001b[39mprint\u001b[39m(\u001b[39m\"\u001b[39m\u001b[39mGo to Variations Tab\u001b[39m\u001b[39m\"\u001b[39m)\n\u001b[0;32m     47\u001b[0m wait \u001b[39m=\u001b[39m WebDriverWait(driver, \u001b[39m60\u001b[39m)\n\u001b[1;32m---> 48\u001b[0m accept_button \u001b[39m=\u001b[39m wait\u001b[39m.\u001b[39;49muntil(EC\u001b[39m.\u001b[39;49melement_to_be_clickable((By\u001b[39m.\u001b[39;49mXPATH, \u001b[39m'\u001b[39;49m\u001b[39m//*[@id=\u001b[39;49m\u001b[39m\"\u001b[39;49m\u001b[39mproductForm-pricing\u001b[39;49m\u001b[39m\"\u001b[39;49m\u001b[39m]/div/div[3]/div[2]/div[1]/div/div[2]/div/div[2]/label/input\u001b[39;49m\u001b[39m'\u001b[39;49m)))\n\u001b[0;32m     49\u001b[0m accept_button_status \u001b[39m=\u001b[39m accept_button\u001b[39m.\u001b[39mget_attribute(\u001b[39m'\u001b[39m\u001b[39mchecked\u001b[39m\u001b[39m'\u001b[39m)\n\u001b[0;32m     50\u001b[0m \u001b[39mprint\u001b[39m(\u001b[39m\"\u001b[39m\u001b[39mCheckbox Status is \u001b[39m\u001b[39m\"\u001b[39m,accept_button_status)\n",
      "File \u001b[1;32m~\\AppData\\Roaming\\Python\\Python311\\site-packages\\selenium\\webdriver\\support\\wait.py:95\u001b[0m, in \u001b[0;36mWebDriverWait.until\u001b[1;34m(self, method, message)\u001b[0m\n\u001b[0;32m     93\u001b[0m     \u001b[39mif\u001b[39;00m time\u001b[39m.\u001b[39mmonotonic() \u001b[39m>\u001b[39m end_time:\n\u001b[0;32m     94\u001b[0m         \u001b[39mbreak\u001b[39;00m\n\u001b[1;32m---> 95\u001b[0m \u001b[39mraise\u001b[39;00m TimeoutException(message, screen, stacktrace)\n",
      "\u001b[1;31mTimeoutException\u001b[0m: Message: \n"
     ]
    }
   ],
   "source": [
    "PreOrderOpen()"
   ]
  }
 ],
 "metadata": {
  "kernelspec": {
   "display_name": "Python 3",
   "language": "python",
   "name": "python3"
  },
  "language_info": {
   "codemirror_mode": {
    "name": "ipython",
    "version": 3
   },
   "file_extension": ".py",
   "mimetype": "text/x-python",
   "name": "python",
   "nbconvert_exporter": "python",
   "pygments_lexer": "ipython3",
   "version": "3.11.0"
  },
  "orig_nbformat": 4,
  "vscode": {
   "interpreter": {
    "hash": "5238573367df39f7286bb46f9ff5f08f63a01a80960060ce41e3c79b190280fa"
   }
  }
 },
 "nbformat": 4,
 "nbformat_minor": 2
}
