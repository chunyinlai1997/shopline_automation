{
 "cells": [
  {
   "cell_type": "code",
   "execution_count": 1,
   "metadata": {},
   "outputs": [
    {
     "name": "stdout",
     "output_type": "stream",
     "text": [
      "All Completed, End Task.\n"
     ]
    }
   ],
   "source": [
    "import inv_dataset\n",
    "import browser\n",
    "import os\n",
    "import pandas as pd"
   ]
  },
  {
   "cell_type": "code",
   "execution_count": 2,
   "metadata": {},
   "outputs": [],
   "source": [
    "inventory_folder = 'data/inventory/'\n",
    "udpate_folder_path = 'data/updates/'\n",
    "\n",
    "#convert inventory xls to csv\n",
    "inventory_files = inv_dataset.Converter()\n",
    "inventory_files.to_csv(inventory_folder)\n",
    "\n",
    "#convert updates xls to csv\n",
    "update_files = inv_dataset.Converter()\n",
    "update_files.to_csv(udpate_folder_path)"
   ]
  },
  {
   "cell_type": "code",
   "execution_count": 3,
   "metadata": {},
   "outputs": [],
   "source": [
    "#read inventory csv into dataframe\n",
    "inventory = inv_dataset.Reader()\n",
    "inv_df = inventory.get_df(inventory_folder)"
   ]
  },
  {
   "cell_type": "code",
   "execution_count": 4,
   "metadata": {},
   "outputs": [
    {
     "data": {
      "text/plain": [
       "'c:\\\\Users\\\\Waddy Store\\\\Documents\\\\Code\\\\codespaces-flask'"
      ]
     },
     "execution_count": 4,
     "metadata": {},
     "output_type": "execute_result"
    }
   ],
   "source": [
    "'''\n",
    "back to parent directory if necessery\n",
    "Use this line: \n",
    "os.chdir(\"../..\")\n",
    "\n",
    "check current directory:\n",
    "os.getcwd()\n",
    "'''\n",
    "\n",
    "os.getcwd()"
   ]
  },
  {
   "cell_type": "code",
   "execution_count": 5,
   "metadata": {},
   "outputs": [],
   "source": [
    "def PreOrderClose():\n",
    "    process_list = []\n",
    "    #Start update procedure\n",
    "    os.chdir(udpate_folder_path)\n",
    "    #go thru each bulk update form csv\n",
    "    for file in os.listdir():\n",
    "        if file.endswith(\".csv\"):\n",
    "            #in each bulk update form csv\n",
    "            file_path = f\"{file}\"\n",
    "            df = pd.read_csv(file_path, index_col=None, header=0)\n",
    "            df = df.drop(index=0)\n",
    "\n",
    "            df = df.loc[df['Preorder Product'] == \"Y\"]\n",
    "            df = df.loc[df['Status'] == \"Y\"]\n",
    "            \n",
    "            for barcode in df['Barcode']:\n",
    "                df2 = inv_df.loc[inv_df['商品條碼'] == barcode]\n",
    "                df2 = df2.loc[df2['預設倉庫'] > 0]\n",
    "                for bar in df2['商品條碼']:\n",
    "                    sku_id = df[df['Barcode']== bar]['Product ID (DO NOT EDIT)'].item()\n",
    "                    varient_id = df[df['Barcode']== bar]['Variant ID (DO NOT EDIT)'].item()\n",
    "                    has_varient = True\n",
    "                    if pd.isnull(varient_id):\n",
    "                        has_varient = False\n",
    "                    process_list.append([sku_id, bar, has_varient])\n",
    "\n",
    "    os.chdir(\"../..\") \n",
    "    print(process_list) \n",
    "    clicker = browser.Action()\n",
    "    clicker.close_preorder(process_list)   "
   ]
  },
  {
   "cell_type": "code",
   "execution_count": 6,
   "metadata": {},
   "outputs": [
    {
     "name": "stdout",
     "output_type": "stream",
     "text": [
      "[['5f3b50bc09ec050048c12f99', '6971668340378', True], ['63734a8e89e4d9001cb8b2fc', '4526374213410', False]]\n",
      "Clicker starts\n",
      "Login sucessful\n",
      "Now browsing to SKU: 5f3b50bc09ec050048c12f99\n",
      "Now browsing to SKU: 63734a8e89e4d9001cb8b2fc\n",
      "Go to Price and Quantity Tab\n",
      "Checkbox Status is  true\n",
      "clicking checkbox\n",
      "Go to Settings Tab\n",
      "Switched off Preorder Product Setting\n",
      "Saved changes, completed\n"
     ]
    }
   ],
   "source": [
    "PreOrderClose()"
   ]
  },
  {
   "cell_type": "code",
   "execution_count": 7,
   "metadata": {},
   "outputs": [],
   "source": [
    "def PreOrderOpen():\n",
    "    process_list = []\n",
    "    #Start update procedure\n",
    "    os.chdir(udpate_folder_path)\n",
    "    #go thru each bulk update form csv\n",
    "    for file in os.listdir():\n",
    "        if file.endswith(\".csv\"):\n",
    "            #in each bulk update form csv\n",
    "            file_path = f\"{file}\"\n",
    "            update_df = pd.read_csv(file_path, index_col=None, header=0)\n",
    "            update_df = update_df.drop(index=0)\n",
    "\n",
    "            '''\n",
    "            match certain condition for open pre-order settings\n",
    "            may add model or brand Keyword (case sensitive here)\n",
    "            '''\n",
    "            searchfor = [\n",
    "                'SN-', 'ARCWAVE', 'HARU', 'LELO', 'Arcwave', \n",
    "                '小怪獸', 'BATTLEMAN', 'TS6', 'TITAN', 'ICHIKI','R20',\n",
    "                'GINRO', 'Relove', 'We-Vibe', '草本精華', 'Womanizer Liberty',\n",
    "                'Womanizer Starlet', 'Womanizer Premium 2', 'Satisfyer', 'Love Dear',\n",
    "                'Womany'\n",
    "                ]\n",
    "\n",
    "            df = update_df.loc[update_df['Product Name (Traditional Chinese)'].str.contains('|'.join(searchfor), na = False)]\n",
    "\n",
    "            ''' end conidtion'''\n",
    "\n",
    "            df = df.loc[df['Preorder Product'] == \"N\"]\n",
    "            df = df.loc[df['Status'] == \"Y\"]\n",
    "\n",
    "            discon_tag = 'dis'\n",
    "            df = df.loc[~df['Product Tag'].str.contains(discon_tag, na=False)]\n",
    "\n",
    "            discon_tag_manual = 'xxpresale'\n",
    "            df = df.loc[~df['Product Tag'].str.contains(discon_tag, na=False)]\n",
    "            \n",
    "            for barcode in df['Barcode']:\n",
    "                df2 = inv_df.loc[inv_df['商品條碼'] == barcode]\n",
    "                df2 = df2.loc[df2['預設倉庫'] <= 0]\n",
    "                for bar in df2['商品條碼']:\n",
    "                    sku_id = df[df['Barcode']== bar]['Product ID (DO NOT EDIT)'].item()\n",
    "                    varient_id = df[df['Barcode']== bar]['Variant ID (DO NOT EDIT)'].item()\n",
    "                    has_varient = True\n",
    "                    if pd.isnull(varient_id):\n",
    "                        has_varient = False\n",
    "                    process_list.append([sku_id, bar, has_varient])\n",
    "\n",
    "    os.chdir(\"../..\") \n",
    "    print(process_list) \n",
    "    clicker = browser.Action()\n",
    "    clicker.open_preorder(process_list)   "
   ]
  },
  {
   "cell_type": "code",
   "execution_count": 8,
   "metadata": {},
   "outputs": [
    {
     "name": "stdout",
     "output_type": "stream",
     "text": [
      "[['5f3dd3871b3082002d76d59c', '4710006290096', False], ['5f86b5f17e5a17003b19a1dd', '4710006290171', False], ['5fedd63400459d00381ef17e', '4049369016365', False], ['618e9a67c517410017817214', '4710006290348', False], ['6316ccb394f6070019e8fd8a', '4251460616850', True], ['632d733b3bd3ee00316dde68', '98000219', False]]\n",
      "Clicker starts\n",
      "Login sucessful\n",
      "Now browsing to SKU: 5f3dd3871b3082002d76d59c\n",
      "Go to Price and Quantity Tab\n",
      "Checkbox Status is  None\n",
      "clicking checkbox\n",
      "Go to Settings Tab\n",
      "Not yet switched on Preorder Product Setting\n",
      "Switched on Preorder Product Setting\n",
      "Typed in Preorder Product Note (English)\n",
      "Typed in Preorder Product Note (Chinese)\n",
      "Saved changes, completed\n",
      "Now browsing to SKU: 5f86b5f17e5a17003b19a1dd\n",
      "Go to Price and Quantity Tab\n",
      "Checkbox Status is  None\n",
      "clicking checkbox\n",
      "Go to Settings Tab\n",
      "Not yet switched on Preorder Product Setting\n",
      "Switched on Preorder Product Setting\n",
      "Typed in Preorder Product Note (English)\n",
      "Typed in Preorder Product Note (Chinese)\n",
      "Saved changes, completed\n",
      "Now browsing to SKU: 5fedd63400459d00381ef17e\n",
      "Go to Price and Quantity Tab\n",
      "Checkbox Status is  None\n",
      "clicking checkbox\n",
      "Go to Settings Tab\n",
      "Not yet switched on Preorder Product Setting\n",
      "Switched on Preorder Product Setting\n",
      "Typed in Preorder Product Note (English)\n",
      "Typed in Preorder Product Note (Chinese)\n",
      "Saved changes, completed\n",
      "Now browsing to SKU: 618e9a67c517410017817214\n",
      "Go to Price and Quantity Tab\n",
      "Checkbox Status is  None\n",
      "clicking checkbox\n",
      "Go to Settings Tab\n",
      "Not yet switched on Preorder Product Setting\n",
      "Switched on Preorder Product Setting\n",
      "Typed in Preorder Product Note (English)\n",
      "Typed in Preorder Product Note (Chinese)\n",
      "Saved changes, completed\n",
      "Now browsing to SKU: 6316ccb394f6070019e8fd8a\n",
      "Go to Variations Tab\n",
      "Checkbox Status is  None\n",
      "clicking checkbox\n",
      "Go to Settings Tab\n",
      "Not yet switched on Preorder Product Setting\n",
      "Switched on Preorder Product Setting\n",
      "Typed in Preorder Product Note (English)\n",
      "Typed in Preorder Product Note (Chinese)\n",
      "Saved changes, completed\n",
      "Now browsing to SKU: 632d733b3bd3ee00316dde68\n",
      "Go to Price and Quantity Tab\n",
      "Checkbox Status is  None\n",
      "clicking checkbox\n",
      "Go to Settings Tab\n",
      "Not yet switched on Preorder Product Setting\n",
      "Switched on Preorder Product Setting\n",
      "Typed in Preorder Product Note (English)\n",
      "Typed in Preorder Product Note (Chinese)\n",
      "Saved changes, completed\n",
      "All Completed, End Task.\n"
     ]
    }
   ],
   "source": [
    "PreOrderOpen()"
   ]
  }
 ],
 "metadata": {
  "kernelspec": {
   "display_name": "Python 3",
   "language": "python",
   "name": "python3"
  },
  "language_info": {
   "codemirror_mode": {
    "name": "ipython",
    "version": 3
   },
   "file_extension": ".py",
   "mimetype": "text/x-python",
   "name": "python",
   "nbconvert_exporter": "python",
   "pygments_lexer": "ipython3",
   "version": "3.11.0"
  },
  "orig_nbformat": 4,
  "vscode": {
   "interpreter": {
    "hash": "5238573367df39f7286bb46f9ff5f08f63a01a80960060ce41e3c79b190280fa"
   }
  }
 },
 "nbformat": 4,
 "nbformat_minor": 2
}
