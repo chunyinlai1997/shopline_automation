{
 "cells": [
  {
   "cell_type": "code",
   "execution_count": 1,
   "metadata": {},
   "outputs": [],
   "source": [
    "import inv_dataset\n",
    "import browser\n",
    "import os\n",
    "import pandas as pd\n",
    "import numpy as np\n",
    "from selenium import webdriver\n",
    "from selenium.webdriver.chrome.options import Options\n",
    "from selenium.webdriver.common.keys import Keys\n",
    "from selenium.webdriver import Keys\n",
    "from selenium.webdriver.common.by import By\n",
    "from selenium.webdriver.support.ui import WebDriverWait \n",
    "from selenium.webdriver.support import expected_conditions as EC"
   ]
  },
  {
   "cell_type": "code",
   "execution_count": 3,
   "metadata": {},
   "outputs": [],
   "source": [
    "inventory_folder = 'data/inventory/'\n",
    "udpate_folder_path = 'data/updates/'\n",
    "\n",
    "#convert inventory xls to csv\n",
    "inventory_files = inv_dataset.Converter()\n",
    "inventory_files.to_csv(inventory_folder)\n",
    "\n",
    "#convert updates xls to csv\n",
    "update_files = inv_dataset.Converter()\n",
    "update_files.to_csv(udpate_folder_path)"
   ]
  },
  {
   "cell_type": "code",
   "execution_count": 5,
   "metadata": {},
   "outputs": [],
   "source": [
    "#read inventory csv into dataframe\n",
    "inventory = inv_dataset.Reader()\n",
    "inv_df = inventory.get_df(inventory_folder)"
   ]
  },
  {
   "cell_type": "code",
   "execution_count": 6,
   "metadata": {},
   "outputs": [],
   "source": [
    "#inv_df.loc[inv_df['預設倉庫'] > 0]"
   ]
  },
  {
   "cell_type": "code",
   "execution_count": 7,
   "metadata": {},
   "outputs": [],
   "source": [
    "clicker = browser.Action()\n",
    "#Start update procedure\n",
    "os.chdir(udpate_folder_path)\n",
    "#go thru each bulk update form csv\n",
    "for file in os.listdir():\n",
    "    if file.endswith(\".csv\"):\n",
    "        #in each bulk update form csv\n",
    "        file_path = f\"{file}\"\n",
    "        update_df = pd.read_csv(file_path, index_col=None, header=0)\n",
    "        update_df = update_df.drop(index=0)\n",
    "\n",
    "        '''match certain condition for open pre-order settings\n",
    "           here using Arcwave and SN as an example\n",
    "        '''\n",
    "        has_df = update_df.loc[update_df['Product Name (Traditional Chinese)'].str.contains(r'^(?=.*ARCWAVE)(?=.*Arcwave)(?=.*SN-)')] & update_df.loc[update_df['Product Name (Traditional Chinese)'].str.contains(r'^(?=.*ARCWAVE)(?=.*Arcwave)(?=.*SN-)')]\n",
    "        prnt(has_df)\n",
    "        ''' end conidtion'''\n",
    "\n",
    "\n",
    "\n",
    "\n",
    "        #print(update_df.loc[update_df.index[0]])\n",
    "        \n"
   ]
  },
  {
   "cell_type": "code",
   "execution_count": 12,
   "metadata": {},
   "outputs": [],
   "source": []
  },
  {
   "cell_type": "code",
   "execution_count": 13,
   "metadata": {},
   "outputs": [
    {
     "name": "stdout",
     "output_type": "stream",
     "text": [
      "true\n"
     ]
    }
   ],
   "source": []
  }
 ],
 "metadata": {
  "kernelspec": {
   "display_name": "Python 3",
   "language": "python",
   "name": "python3"
  },
  "language_info": {
   "codemirror_mode": {
    "name": "ipython",
    "version": 3
   },
   "file_extension": ".py",
   "mimetype": "text/x-python",
   "name": "python",
   "nbconvert_exporter": "python",
   "pygments_lexer": "ipython3",
   "version": "3.7.4"
  },
  "orig_nbformat": 4,
  "vscode": {
   "interpreter": {
    "hash": "d2561fb63e72dfdb66f0f6990a2d928a8481c30f37a2ae20c52a5a9cbb6553d9"
   }
  }
 },
 "nbformat": 4,
 "nbformat_minor": 2
}
