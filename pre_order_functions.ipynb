{
 "cells": [
  {
   "attachments": {},
   "cell_type": "markdown",
   "metadata": {},
   "source": [
    "Before running this application, please remove and replace all files under data/inventory and data/updates in order to execute latest changes.\n",
    "\n",
    "data/inventory\n",
    "https://admin.shoplineapp.com/admin/waddystore/reports?createdBy=pos\n",
    "實體店 > 庫存總表\n",
    "Retail Store > Product Inventory Report\n",
    "\n",
    "data/updates\n",
    "https://admin.shoplineapp.com/admin/waddystore/products/import/bulkupload_v2\n",
    "匯出商品更新檔\n",
    "Export Product Bulk Update File"
   ]
  },
  {
   "cell_type": "code",
   "execution_count": 29,
   "metadata": {},
   "outputs": [],
   "source": [
    "import inv_dataset\n",
    "import browser\n",
    "import os\n",
    "import pandas as pd\n",
    "import csv"
   ]
  },
  {
   "cell_type": "code",
   "execution_count": 30,
   "metadata": {},
   "outputs": [],
   "source": [
    "inventory_folder = 'data/inventory/'\n",
    "udpate_folder_path = 'data/updates/'\n",
    "\n",
    "#convert inventory xls to csv\n",
    "inventory_files = inv_dataset.Converter()\n",
    "inventory_files.to_csv(inventory_folder)\n",
    "\n",
    "#convert updates xls to csv\n",
    "update_files = inv_dataset.Converter()\n",
    "update_files.to_csv(udpate_folder_path)"
   ]
  },
  {
   "cell_type": "code",
   "execution_count": 31,
   "metadata": {},
   "outputs": [],
   "source": [
    "#read inventory csv into dataframe\n",
    "inventory = inv_dataset.Reader()\n",
    "inv_df = inventory.get_df(inventory_folder)"
   ]
  },
  {
   "cell_type": "code",
   "execution_count": 50,
   "metadata": {},
   "outputs": [],
   "source": [
    "def PreOrderClose():\n",
    "    process_list = []\n",
    "    #Start update procedure\n",
    "    os.chdir(udpate_folder_path)\n",
    "    #go thru each bulk update form csv\n",
    "    for file in os.listdir():\n",
    "        if file.endswith(\".csv\"):\n",
    "            #in each bulk update form csv\n",
    "            file_path = f\"{file}\"\n",
    "            df = pd.read_csv(file_path, index_col=None, header=0)\n",
    "            df = df.drop(index=0)\n",
    "\n",
    "            df = df.loc[df['Preorder Product'] == \"Y\"]\n",
    "            df = df.loc[df['Status'] == \"Y\"]\n",
    "            \n",
    "            for barcode in df['Barcode']:\n",
    "                df2 = inv_df.loc[inv_df['商品條碼'] == barcode]\n",
    "                df2 = df2.loc[df2['預設倉庫'] > 0]\n",
    "                for bar in df2['商品條碼']:\n",
    "                    sku_id = df[df['Barcode']== bar]['Product ID (DO NOT EDIT)'].item()\n",
    "                    varient_id = df[df['Barcode']== bar]['Variant ID (DO NOT EDIT)'].item()\n",
    "                    has_varient = True\n",
    "                    if pd.isnull(varient_id):\n",
    "                        has_varient = False\n",
    "                    process_list.append([sku_id, bar, has_varient])\n",
    "\n",
    "    os.chdir(\"../..\") \n",
    "    print(process_list) \n",
    "    clicker = browser.Action()\n",
    "    clicker.close_preorder(process_list)   \n",
    "    print(\"All Completed, End Task.\")    "
   ]
  },
  {
   "attachments": {},
   "cell_type": "markdown",
   "metadata": {},
   "source": [
    "- You may encounter NoSuchElementException or ElementNotInteractableException, try to run this part of code again"
   ]
  },
  {
   "cell_type": "code",
   "execution_count": 51,
   "metadata": {},
   "outputs": [
    {
     "name": "stdout",
     "output_type": "stream",
     "text": [
      "[['5f48e9ca6b3c6a002aab2100', '7350075027802', True], ['5f4caab35b5b6200367af3e2', '4061504001777', True], ['5f78a5967985380038bc15b1', '4049369016525', False], ['602e08bd4a77920029dd48df', '9504000162191', False], ['6062fa4eec7042002f6a36f0', '7350075028182', True], ['61874a6d2a89c2001702969e', '4061504009605', False], ['621c7c62e840090026155a2e', '4061504009629', False], ['623a957b6e0b6d0011b8c21b', '4061504018362', False], ['6361f1e0ad475d0010e17538', '7350075024085', False]]\n",
      "Clicker starts\n",
      "Login sucessful\n",
      "Now browsing to SKU: 5f48e9ca6b3c6a002aab2100\n",
      "Go to Variations Tab\n",
      "Checkbox Status is  None\n",
      "pass clicking checkbox, already unchecked\n",
      "Go to Settings Tab\n",
      "No action, Switch alraedy off\n",
      "Saved changes, completed\n",
      "Now browsing to SKU: 5f4caab35b5b6200367af3e2\n",
      "Go to Variations Tab\n",
      "Checkbox Status is  None\n",
      "pass clicking checkbox, already unchecked\n",
      "Go to Settings Tab\n",
      "No action, Switch alraedy off\n",
      "Saved changes, completed\n",
      "Now browsing to SKU: 5f78a5967985380038bc15b1\n",
      "Go to Price and Quantity Tab\n",
      "Checkbox Status is  None\n",
      "pass clicking checkbox, already unchecked\n",
      "Go to Settings Tab\n",
      "No action, Switch alraedy off\n",
      "Saved changes, completed\n",
      "Now browsing to SKU: 602e08bd4a77920029dd48df\n",
      "Go to Price and Quantity Tab\n",
      "Checkbox Status is  None\n",
      "pass clicking checkbox, already unchecked\n",
      "Go to Settings Tab\n",
      "No action, Switch alraedy off\n",
      "Saved changes, completed\n",
      "Now browsing to SKU: 6062fa4eec7042002f6a36f0\n",
      "Go to Variations Tab\n",
      "Checkbox Status is  None\n",
      "pass clicking checkbox, already unchecked\n",
      "Go to Settings Tab\n",
      "No action, Switch alraedy off\n",
      "Saved changes, completed\n",
      "Now browsing to SKU: 61874a6d2a89c2001702969e\n",
      "Go to Price and Quantity Tab\n",
      "Checkbox Status is  None\n",
      "pass clicking checkbox, already unchecked\n",
      "Go to Settings Tab\n",
      "No action, Switch alraedy off\n",
      "Saved changes, completed\n",
      "Now browsing to SKU: 621c7c62e840090026155a2e\n",
      "Go to Price and Quantity Tab\n",
      "Checkbox Status is  None\n",
      "pass clicking checkbox, already unchecked\n",
      "Go to Settings Tab\n",
      "No action, Switch alraedy off\n",
      "Saved changes, completed\n",
      "Now browsing to SKU: 623a957b6e0b6d0011b8c21b\n",
      "Go to Price and Quantity Tab\n",
      "Checkbox Status is  None\n",
      "pass clicking checkbox, already unchecked\n",
      "Go to Settings Tab\n",
      "No action, Switch alraedy off\n",
      "Saved changes, completed\n",
      "Now browsing to SKU: 6361f1e0ad475d0010e17538\n",
      "Go to Price and Quantity Tab\n",
      "Checkbox Status is  None\n",
      "pass clicking checkbox, already unchecked\n",
      "Go to Settings Tab\n",
      "No action, Switch alraedy off\n",
      "Saved changes, completed\n",
      "All Completed, End Task.\n"
     ]
    }
   ],
   "source": [
    "PreOrderClose()"
   ]
  },
  {
   "cell_type": "code",
   "execution_count": 103,
   "metadata": {},
   "outputs": [],
   "source": [
    "def PreOrderOpen():\n",
    "    file = open(\"search/namelist.csv\", \"r\")\n",
    "    data = list(csv.reader(file, delimiter=\",\"))\n",
    "    file.close()\n",
    "    search_for = dict([[row[0], row[1]] for row in data])\n",
    "    search_for.pop('Keywords')\n",
    "\n",
    "    file = open(\"template/period_template.csv\", \"r\")\n",
    "    words = list(csv.reader(file, delimiter=\",\"))\n",
    "    file.close()\n",
    "\n",
    "    process_list=[]\n",
    "\n",
    "    #Start update procedure\n",
    "    #go thru each bulk update form csv\n",
    "    os.chdir(udpate_folder_path)\n",
    "    for file in os.listdir():\n",
    "        if file.endswith(\".csv\"):\n",
    "            #in each bulk update form csv\n",
    "            file_path = f\"{file}\"\n",
    "            update_df = pd.read_csv(file_path, index_col=None, header=0)\n",
    "            update_df = update_df.drop(index=0)\n",
    "\n",
    "            period_type = ''\n",
    "\n",
    "            df = update_df.loc[update_df['Product Name (Traditional Chinese)'].str.contains('|'.join(list(search_for.keys())), na = False)]\n",
    "            \n",
    "            df = df.loc[df['Preorder Product'] == \"N\"]\n",
    "            df = df.loc[df['Status'] == \"Y\"]\n",
    "\n",
    "            discon_tag = 'dis'\n",
    "            df = df.loc[~df['Product Tag'].str.contains(discon_tag, na=False)]\n",
    "\n",
    "            discon_tag_manual = 'shortage'\n",
    "            df = df.loc[~df['Product Tag'].str.contains(discon_tag_manual, na=False)]\n",
    "            \n",
    "            for barcode in df['Barcode']:\n",
    "                df2 = inv_df.loc[inv_df['商品條碼'] == barcode]\n",
    "                df2 = df2.loc[df2['預設倉庫'] <= 0]\n",
    "                for bar in df2['商品條碼']:\n",
    "                    sku_id = df[df['Barcode']== bar]['Product ID (DO NOT EDIT)'].item()\n",
    "                    varient_id = df[df['Barcode']== bar]['Variant ID (DO NOT EDIT)'].item()\n",
    "                    chinese_product_name = df[df['Barcode']== bar]['Product Name (Traditional Chinese)'].item()\n",
    "\n",
    "                    for key in search_for.keys():\n",
    "                        if key in chinese_product_name:\n",
    "                            period_type = search_for[key]\n",
    "                    \n",
    "                    has_varient = True\n",
    "                    if pd.isnull(varient_id):\n",
    "                        has_varient = False\n",
    "                    \n",
    "                    process_list.append([sku_id, bar, has_varient, period_type])\n",
    "\n",
    "    print(process_list) \n",
    "    clicker = browser.Action()\n",
    "    clicker.open_preorder(process_list)   \n",
    "    print(\"All Completed, End Task.\")    "
   ]
  },
  {
   "cell_type": "code",
   "execution_count": 104,
   "metadata": {},
   "outputs": [
    {
     "name": "stdout",
     "output_type": "stream",
     "text": [
      "[['5f3b7bcd7bfced6dfcb9ae0f', '4049369015504', False, 'A'], ['6082927b0801a40014874e00', '4712933171868', False, 'A'], ['6088ea7e2d74dd00203da227', '4251460603621', False, 'A'], ['6123d83fe69bb162d2a82a39', '66483760', False, 'A'], ['6197ca9e59c96d00320f6473', '4571361303155', False, 'A'], ['61fd714ea5ecb5002c041c52', '96821457', True, 'A'], ['63298ee03a23e9003146876a', '98000133', True, 'A'], ['632d83cf30b73f6c3a1db6a1', '98000243', False, 'A']]\n",
      "Clicker starts\n",
      "Login sucessful\n"
     ]
    },
    {
     "ename": "ValueError",
     "evalue": "too many values to unpack (expected 3)",
     "output_type": "error",
     "traceback": [
      "\u001b[1;31m---------------------------------------------------------------------------\u001b[0m",
      "\u001b[1;31mValueError\u001b[0m                                Traceback (most recent call last)",
      "Cell \u001b[1;32mIn[104], line 1\u001b[0m\n\u001b[1;32m----> 1\u001b[0m PreOrderOpen()\n",
      "Cell \u001b[1;32mIn[103], line 57\u001b[0m, in \u001b[0;36mPreOrderOpen\u001b[1;34m()\u001b[0m\n\u001b[0;32m     55\u001b[0m \u001b[39mprint\u001b[39m(process_list) \n\u001b[0;32m     56\u001b[0m clicker \u001b[39m=\u001b[39m browser\u001b[39m.\u001b[39mAction()\n\u001b[1;32m---> 57\u001b[0m clicker\u001b[39m.\u001b[39;49mopen_preorder(process_list)   \n\u001b[0;32m     58\u001b[0m \u001b[39mprint\u001b[39m(\u001b[39m\"\u001b[39m\u001b[39mAll Completed, End Task.\u001b[39m\u001b[39m\"\u001b[39m)\n",
      "File \u001b[1;32mc:\\Users\\Waddy Store\\Documents\\Code Project\\shopline_automation\\browser.py:61\u001b[0m, in \u001b[0;36mAction.open_preorder\u001b[1;34m(self, process_list)\u001b[0m\n\u001b[0;32m     58\u001b[0m driver\u001b[39m.\u001b[39mfind_element(By\u001b[39m.\u001b[39mID, \u001b[39m\"\u001b[39m\u001b[39mreg-submit-button\u001b[39m\u001b[39m\"\u001b[39m)\u001b[39m.\u001b[39mclick()\n\u001b[0;32m     59\u001b[0m \u001b[39mprint\u001b[39m(\u001b[39m\"\u001b[39m\u001b[39mLogin sucessful\u001b[39m\u001b[39m\"\u001b[39m)\n\u001b[1;32m---> 61\u001b[0m \u001b[39mfor\u001b[39;00m sku_id, bar, has_varient, period_type \u001b[39min\u001b[39;00m process_list:\n\u001b[0;32m     62\u001b[0m     \u001b[39mprint\u001b[39m(\u001b[39m\"\u001b[39m\u001b[39mNow browsing to SKU: \u001b[39m\u001b[39m\"\u001b[39m \u001b[39m+\u001b[39m sku_id)\n\u001b[0;32m     63\u001b[0m     driver\u001b[39m.\u001b[39mget(\u001b[39m\"\u001b[39m\u001b[39mhttps://admin.shoplineapp.com/admin/waddystore/products/\u001b[39m\u001b[39m\"\u001b[39m\u001b[39m+\u001b[39msku_id\u001b[39m+\u001b[39m\u001b[39m\"\u001b[39m\u001b[39m/edit\u001b[39m\u001b[39m\"\u001b[39m)\n",
      "\u001b[1;31mValueError\u001b[0m: too many values to unpack (expected 3)"
     ]
    }
   ],
   "source": [
    "PreOrderOpen()"
   ]
  },
  {
   "cell_type": "code",
   "execution_count": 102,
   "metadata": {},
   "outputs": [
    {
     "data": {
      "text/plain": [
       "'c:\\\\Users\\\\Waddy Store\\\\Documents\\\\Code Project\\\\shopline_automation'"
      ]
     },
     "execution_count": 102,
     "metadata": {},
     "output_type": "execute_result"
    }
   ],
   "source": [
    "'''\n",
    "back to parent directory if necessery\n",
    "Use this line: \n",
    "os.chdir(\"../..\")\n",
    "\n",
    "check current directory:\n",
    "os.getcwd()\n",
    "'''\n",
    "\n",
    "os.chdir(\"../..\")\n",
    "os.getcwd()"
   ]
  }
 ],
 "metadata": {
  "kernelspec": {
   "display_name": "Python 3",
   "language": "python",
   "name": "python3"
  },
  "language_info": {
   "codemirror_mode": {
    "name": "ipython",
    "version": 3
   },
   "file_extension": ".py",
   "mimetype": "text/x-python",
   "name": "python",
   "nbconvert_exporter": "python",
   "pygments_lexer": "ipython3",
   "version": "3.11.0"
  },
  "orig_nbformat": 4,
  "vscode": {
   "interpreter": {
    "hash": "5238573367df39f7286bb46f9ff5f08f63a01a80960060ce41e3c79b190280fa"
   }
  }
 },
 "nbformat": 4,
 "nbformat_minor": 2
}
