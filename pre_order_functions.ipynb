{
 "cells": [
  {
   "attachments": {},
   "cell_type": "markdown",
   "metadata": {},
   "source": [
    "Before running this application, please remove and replace all files under data/inventory and data/updates in order to execute latest changes.\n",
    "\n",
    "data/inventory\n",
    "https://admin.shoplineapp.com/admin/waddystore/reports?createdBy=pos\n",
    "實體店 > 庫存總表\n",
    "Retail Store > Product Inventory Report\n",
    "\n",
    "data/updates\n",
    "https://admin.shoplineapp.com/admin/waddystore/products/import/bulkupload_v2\n",
    "匯出商品更新檔\n",
    "Export Product Bulk Update File"
   ]
  },
  {
   "cell_type": "code",
   "execution_count": null,
   "metadata": {},
   "outputs": [],
   "source": [
    "import inv_dataset\n",
    "import browser\n",
    "import os\n",
    "import pandas as pd\n",
    "import csv"
   ]
  },
  {
   "cell_type": "code",
   "execution_count": null,
   "metadata": {},
   "outputs": [],
   "source": [
    "inventory_folder = 'data/inventory/'\n",
    "udpate_folder_path = 'data/updates/'\n",
    "\n",
    "#convert inventory xls to csv\n",
    "inventory_files = inv_dataset.Converter()\n",
    "inventory_files.to_csv(inventory_folder)\n",
    "\n",
    "#convert updates xls to csv\n",
    "update_files = inv_dataset.Converter()\n",
    "update_files.to_csv(udpate_folder_path)"
   ]
  },
  {
   "cell_type": "code",
   "execution_count": null,
   "metadata": {},
   "outputs": [],
   "source": [
    "#read inventory csv into dataframe\n",
    "inventory = inv_dataset.Reader()\n",
    "inv_df = inventory.get_df(inventory_folder)"
   ]
  },
  {
   "cell_type": "code",
   "execution_count": null,
   "metadata": {},
   "outputs": [],
   "source": [
    "'''\n",
    "back to parent directory if necessery\n",
    "Use this line: \n",
    "os.chdir(\"../..\")\n",
    "\n",
    "check current directory:\n",
    "os.getcwd()\n",
    "'''\n",
    "\n",
    "os.getcwd()"
   ]
  },
  {
   "cell_type": "code",
   "execution_count": null,
   "metadata": {},
   "outputs": [],
   "source": [
    "def PreOrderClose():\n",
    "    process_list = []\n",
    "    #Start update procedure\n",
    "    os.chdir(udpate_folder_path)\n",
    "    #go thru each bulk update form csv\n",
    "    for file in os.listdir():\n",
    "        if file.endswith(\".csv\"):\n",
    "            #in each bulk update form csv\n",
    "            file_path = f\"{file}\"\n",
    "            df = pd.read_csv(file_path, index_col=None, header=0)\n",
    "            df = df.drop(index=0)\n",
    "\n",
    "            df = df.loc[df['Preorder Product'] == \"Y\"]\n",
    "            df = df.loc[df['Status'] == \"Y\"]\n",
    "            \n",
    "            for barcode in df['Barcode']:\n",
    "                df2 = inv_df.loc[inv_df['商品條碼'] == barcode]\n",
    "                df2 = df2.loc[df2['預設倉庫'] > 0]\n",
    "                for bar in df2['商品條碼']:\n",
    "                    sku_id = df[df['Barcode']== bar]['Product ID (DO NOT EDIT)'].item()\n",
    "                    varient_id = df[df['Barcode']== bar]['Variant ID (DO NOT EDIT)'].item()\n",
    "                    has_varient = True\n",
    "                    if pd.isnull(varient_id):\n",
    "                        has_varient = False\n",
    "                    process_list.append([sku_id, bar, has_varient])\n",
    "\n",
    "    os.chdir(\"../..\") \n",
    "    print(process_list) \n",
    "    clicker = browser.Action()\n",
    "    clicker.close_preorder(process_list)   "
   ]
  },
  {
   "cell_type": "code",
   "execution_count": null,
   "metadata": {},
   "outputs": [],
   "source": [
    "PreOrderClose()"
   ]
  },
  {
   "cell_type": "code",
   "execution_count": null,
   "metadata": {},
   "outputs": [],
   "source": [
    "def PreOrderOpen():\n",
    "    process_list = []\n",
    "    #Start update procedure\n",
    "    os.chdir(udpate_folder_path)\n",
    "    #go thru each bulk update form csv\n",
    "    for file in os.listdir():\n",
    "        if file.endswith(\".csv\"):\n",
    "            #in each bulk update form csv\n",
    "            file_path = f\"{file}\"\n",
    "            update_df = pd.read_csv(file_path, index_col=None, header=0)\n",
    "            update_df = update_df.drop(index=0)\n",
    "\n",
    "            '''\n",
    "            match certain condition for open pre-order settings\n",
    "            may add model or brand Keyword (case sensitive here)\n",
    "            '''\n",
    "            file = open(\"search/namelist.csv\", \"r\")\n",
    "            data = list(csv.reader(file, delimiter=\",\"))\n",
    "            file.close()\n",
    "            search_for = [row[0] for row in data]\n",
    "\n",
    "            df = update_df.loc[update_df['Product Name (Traditional Chinese)'].str.contains('|'.join(search_for), na = False)]\n",
    "\n",
    "            ''' end conidtion'''\n",
    "\n",
    "            df = df.loc[df['Preorder Product'] == \"N\"]\n",
    "            df = df.loc[df['Status'] == \"Y\"]\n",
    "\n",
    "            discon_tag = 'dis'\n",
    "            df = df.loc[~df['Product Tag'].str.contains(discon_tag, na=False)]\n",
    "\n",
    "            discon_tag_manual = 'shortage'\n",
    "            df = df.loc[~df['Product Tag'].str.contains(discon_tag_manual, na=False)]\n",
    "            \n",
    "            for barcode in df['Barcode']:\n",
    "                df2 = inv_df.loc[inv_df['商品條碼'] == barcode]\n",
    "                df2 = df2.loc[df2['預設倉庫'] <= 0]\n",
    "                for bar in df2['商品條碼']:\n",
    "                    sku_id = df[df['Barcode']== bar]['Product ID (DO NOT EDIT)'].item()\n",
    "                    varient_id = df[df['Barcode']== bar]['Variant ID (DO NOT EDIT)'].item()\n",
    "                    has_varient = True\n",
    "                    if pd.isnull(varient_id):\n",
    "                        has_varient = False\n",
    "                    process_list.append([sku_id, bar, has_varient])\n",
    "\n",
    "    os.chdir(\"../..\") \n",
    "    print(process_list) \n",
    "    clicker = browser.Action()\n",
    "    clicker.open_preorder(process_list)   "
   ]
  },
  {
   "cell_type": "code",
   "execution_count": null,
   "metadata": {},
   "outputs": [],
   "source": [
    "PreOrderOpen()"
   ]
  }
 ],
 "metadata": {
  "kernelspec": {
   "display_name": "Python 3",
   "language": "python",
   "name": "python3"
  },
  "language_info": {
   "codemirror_mode": {
    "name": "ipython",
    "version": 3
   },
   "file_extension": ".py",
   "mimetype": "text/x-python",
   "name": "python",
   "nbconvert_exporter": "python",
   "pygments_lexer": "ipython3",
   "version": "3.11.0"
  },
  "orig_nbformat": 4,
  "vscode": {
   "interpreter": {
    "hash": "5238573367df39f7286bb46f9ff5f08f63a01a80960060ce41e3c79b190280fa"
   }
  }
 },
 "nbformat": 4,
 "nbformat_minor": 2
}
